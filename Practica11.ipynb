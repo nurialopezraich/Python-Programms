{
  "nbformat": 4,
  "nbformat_minor": 0,
  "metadata": {
    "colab": {
      "name": "Practica11.ipynb",
      "provenance": [],
      "collapsed_sections": []
    },
    "kernelspec": {
      "name": "python3",
      "display_name": "Python 3"
    }
  },
  "cells": [
    {
      "cell_type": "markdown",
      "metadata": {
        "id": "BIFtd_ZUTMJe"
      },
      "source": [
        "#5.1. Escriu una funció recursiva que sumi tots els elements d’una llista. "
      ]
    },
    {
      "cell_type": "markdown",
      "metadata": {
        "id": "kPfBDrYG765U"
      },
      "source": [
        "*Digues quin és el cas base de l’algorisme i calcula’n la seva complexitat*\n",
        "\n",
        "El cas base de l'algorisme és quan només tenim un element a la llista, de manera que simplement retornem aquest.\n",
        "\n",
        "Sigui n la llargada de la llista introduïda. Tenim un problema de mida n, que reformulem mitjançant la solució de 2 problemes (a=2) de mida n/2 (b=2) i llavors combinem les respostes en un temps O(1). Pel cas 3 del Teorema Master, ja que d=0 < 1=log_b(a), tenim que l'algorisme té una complexitat 0(n).\n"
      ]
    },
    {
      "cell_type": "code",
      "metadata": {
        "id": "GU0ODIwGTESv"
      },
      "source": [
        "def suma_llista(llista):\n",
        "    if len(llista) == 1:\n",
        "        return llista[0]\n",
        "    else:\n",
        "        suma = suma_llista(llista[0:len(llista)//2]) + suma_llista(llista[len(llista)//2:len(llista)])\n",
        "    return suma"
      ],
      "execution_count": null,
      "outputs": []
    },
    {
      "cell_type": "code",
      "metadata": {
        "colab": {
          "base_uri": "https://localhost:8080/"
        },
        "id": "f7FP4NstBviy",
        "outputId": "3a2bfd87-4e20-4ea2-e617-0dc18f3e8930"
      },
      "source": [
        "suma_llista([1,2,3,4,5])"
      ],
      "execution_count": null,
      "outputs": [
        {
          "output_type": "execute_result",
          "data": {
            "text/plain": [
              "15"
            ]
          },
          "metadata": {
            "tags": []
          },
          "execution_count": 111
        }
      ]
    },
    {
      "cell_type": "code",
      "metadata": {
        "id": "PgOqiK8uTZQI"
      },
      "source": [
        "assert suma_llista([1,2,3,4]) == 10\n",
        "assert suma_llista([-1,-2,0,1,2]) == 0"
      ],
      "execution_count": null,
      "outputs": []
    },
    {
      "cell_type": "markdown",
      "metadata": {
        "id": "uiqEI_mmTfvA"
      },
      "source": [
        "#5.10. Volem ordenar una llista A de nombres enters en ordre creixent, és a dir, A[i] < A[j] per a qualsevol i < j. Definim inversió, com el procés d’intercanviar dos valors de la llista que no estiguin en el seu ordre natural, és a dir, que el de l’esquerra sigui major que el de la dreta. Concretament, diem que (A[i], A[j]) és una inversió, si A[i] > A[j] i i < j. Escriu una funció que calculi el nombre d’inversions dins una llista i que digui quines són."
      ]
    },
    {
      "cell_type": "code",
      "metadata": {
        "id": "lDcPTtDvd8Bm"
      },
      "source": [
        "def merge_inversions(esq, dr, compt):\n",
        "    result = []\n",
        "    i, j = 0, 0\n",
        "    while(i < len(esq) and j < len(dr)):\n",
        "        if (esq[i] <= dr[j]):\n",
        "            result.append(esq[i])\n",
        "            i = i + 1\n",
        "        else:\n",
        "            compt += (len(esq) - i)\n",
        "            result.append(dr[j])\n",
        "            j = j + 1\n",
        "    result += esq[i:]\n",
        "    result += dr[j:]\n",
        "    return result, compt"
      ],
      "execution_count": null,
      "outputs": []
    },
    {
      "cell_type": "code",
      "metadata": {
        "id": "SKHkjjgXd-l8"
      },
      "source": [
        "def mergesort_inversions(llista, compt):\n",
        "    if len(llista) < 2:\n",
        "        return llista, compt\n",
        "    else:\n",
        "        middle = len(llista) // 2\n",
        "        e, d = 0, 0\n",
        "        esq = mergesort_inversions(llista[:middle], e)\n",
        "        dr = mergesort_inversions(llista[middle:], d)\n",
        "        return merge_inversions(esq[0], dr[0], compt + esq[1] + dr[1])"
      ],
      "execution_count": null,
      "outputs": []
    },
    {
      "cell_type": "code",
      "metadata": {
        "id": "aVgp8wT5zE2p"
      },
      "source": [
        "def comptador_inversions(llista):\n",
        "    llista, num_Inversions = mergesort_inversions(llista, 0)\n",
        "    return num_Inversions"
      ],
      "execution_count": null,
      "outputs": []
    },
    {
      "cell_type": "code",
      "metadata": {
        "colab": {
          "base_uri": "https://localhost:8080/"
        },
        "id": "vqe82U24ZbmH",
        "outputId": "6a56635d-5ce3-4e50-daee-34fab1b30a6c"
      },
      "source": [
        "comptador_inversions([1,5,6,3,7])"
      ],
      "execution_count": null,
      "outputs": [
        {
          "output_type": "execute_result",
          "data": {
            "text/plain": [
              "2"
            ]
          },
          "metadata": {
            "tags": []
          },
          "execution_count": 121
        }
      ]
    },
    {
      "cell_type": "code",
      "metadata": {
        "colab": {
          "base_uri": "https://localhost:8080/"
        },
        "id": "g5-FzlHJNgkt",
        "outputId": "87b9b4b1-d717-4eab-e62e-7670eed16a38"
      },
      "source": [
        "comptador_inversions([3, 1, 5, 2, 7, 8, 4])"
      ],
      "execution_count": null,
      "outputs": [
        {
          "output_type": "execute_result",
          "data": {
            "text/plain": [
              "6"
            ]
          },
          "metadata": {
            "tags": []
          },
          "execution_count": 122
        }
      ]
    },
    {
      "cell_type": "code",
      "metadata": {
        "colab": {
          "base_uri": "https://localhost:8080/"
        },
        "id": "bW61xiTB0Ul2",
        "outputId": "5f6be012-ef9f-4f2a-a81d-11e67bee0df2"
      },
      "source": [
        "assert comptador_inversions([3,1,5,2,7,8,4]) == 6\n",
        "assert comptador_inversions([-19, 175, 170, -12, 62, 149, 92, 23, 180, 59, -47, 63, 162, 86, 77, 73, 9, 111]) == 78\n",
        "assert comptador_inversions([130, 100, 38, 103, 143, 160, 168, 164, 90, -29, -16, -86, 137, 189, 9, 116, 40, 33]) == 87\n",
        "assert comptador_inversions([139, -66, 128, 171, 68, 152, -77, 146, 191, 43, 27, -58, 158, 152, 187, 62, 187]) == 55\n",
        "assert comptador_inversions([36, 43, -80, 72, 120, -74, 121, -100, 95, 66, 189, 69, 117, -38, 10, 31, -41, 56]) == 78\n",
        "assert comptador_inversions([64, 160, 127, 31, 15, 137, -6, 56, -15, 143, -5]) == 36\n",
        "assert comptador_inversions([132, 36, -94, 87, -12, -58, 10, 67, 7, 159, 98, 196, 162, 64]) == 31\n",
        "assert comptador_inversions([-91, -63, -16, 54, 102, 68]) == 1\n",
        "assert comptador_inversions([31, -29, 81, 165, 44, -70, -17]) == 12\n",
        "assert comptador_inversions([126, 121, 121, -39, 129, 133, 32, 55, 37, -8, -19, 89, 137]) == 43\n",
        "assert comptador_inversions([-72, 145, 135, 61, 161, 172, -79, -35, 3, -43, -42, -90, -93]) == 56\n",
        "assert comptador_inversions([175, -49, -59, 143, 149, -55, -64, 126]) == 18\n",
        "assert comptador_inversions([150, -96, 122, 177, 138, 6, 199, 33, 64, -44]) == 26\n",
        "assert comptador_inversions([94, 178, 24, 192, 23, 89, 47, -89, 142, -16, 105, 43, 87, 141, -13, -56, 132, 112, 183, -81]) == 103\n",
        "assert comptador_inversions([139, -57, 100, -82, 191, 6, 171, -68, 96, 120, 68, 49]) == 35\n",
        "assert comptador_inversions([42, 91, -95, -5, -34]) == 7\n",
        "assert comptador_inversions([-20, 67, 122]) == 0\n",
        "assert comptador_inversions([0, 10, 75, 43, 4, 19, -30, -49, 171, -78, 196, 53, -11, -3]) == 49\n",
        "assert comptador_inversions([131, -1, 59, -33]) == 5\n",
        "assert comptador_inversions([139, -39, 104, 99, -21, 150, 148, 178, 112, 102, 16, 66, 0]) == 44\n",
        "assert comptador_inversions([-55, 131, 179, 111, 0, 82, -56, 188, 47, 85, 143, 179, 74, 96, 150]) == 43\n",
        "assert comptador_inversions([176, -1, 47, 13, 137, -33, 129, 10, -2]) == 24\n",
        "assert comptador_inversions([136, 191, -40, -63, 191, 22, 191, -29, 186, 135, 80, 158]) == 31\n",
        "assert comptador_inversions([59, -12, 133, 95, 114]) == 3\n",
        "assert comptador_inversions([]) == 0\n",
        "assert comptador_inversions([68, 143, 178, 113, 132, 3, 2, 21, -34, 21, -35, -62, 62, -78, 78, -17]) == 87\n",
        "assert comptador_inversions([-73, 56, -61, 176, 18, 18, 118, 67, -16, -6, -41, 34]) == 32\n",
        "assert comptador_inversions([48, 65, -86, -67]) == 4\n",
        "assert comptador_inversions([69, 26, 101, 89, 65, -91, -78, 194, -17, 37, 116, 107, -8, 199, 141]) == 40\n",
        "assert comptador_inversions([51, -48, 71, 91, 141, 19, 136, 162, 115, 2, 100, 62, -34, 11]) == 49\n",
        "assert comptador_inversions([52, 108, 182, 173, 22, 149, -45, 158, -2]) == 22\n",
        "assert comptador_inversions([58, 123, 199, 110]) == 2\n",
        "assert comptador_inversions([-74, 151, 109, -67, -38, 154, 148, -82, -26, 63, 148, -72, 111, -82, 117, -32]) == 62\n",
        "assert comptador_inversions([94, -23, 85, -5, 164, -27, -47, -95, -60, -62, -71, 30, -76, -43, 103, 129, 51, 24, 39, 194]) == 87\n",
        "assert comptador_inversions([-7, 59, -28, 145, -29, 56, 132, 164, -30, 137, 167, -94, 36, 151]) == 39\n",
        "assert comptador_inversions([-36, -80]) == 1\n",
        "assert comptador_inversions([150, -98, 152, 191, 179, -66, 91]) == 10\n",
        "assert comptador_inversions([156, 155, 24, -77, 133, -43, 87, -7, 91, 49, 61, -4]) == 41\n",
        "assert comptador_inversions([86, -89, -11, 125, 87, 11, 164, 55, 194]) == 10\n",
        "assert comptador_inversions([57, 144, 67, 25]) == 4\n",
        "assert comptador_inversions([53, 21, 26, -82, 106, -31, 163, 63, 53, 190, 110, 181, 20, 161, -88, 118]) == 48\n",
        "print(\"Has pasado todos los asserts!! :D\")"
      ],
      "execution_count": null,
      "outputs": [
        {
          "output_type": "stream",
          "text": [
            "Has pasado todos los asserts!! :D\n"
          ],
          "name": "stdout"
        }
      ]
    },
    {
      "cell_type": "markdown",
      "metadata": {
        "id": "7qOBy9pQTy2h"
      },
      "source": [
        "#5. 22. Fes un programa que ordeni una llista on els números apareixen duplicats i un darrere l’altre. Per exemple, la llista [1, 1, 4, 4, 3, 3, 5, 5]. Prova els algorismes d’ordenació quicksort i mergesort. Calcula la complexitat d’aquests dos algoritmes i mesura el temps d’execució del teu programa per cadascun. "
      ]
    },
    {
      "cell_type": "markdown",
      "metadata": {
        "id": "0WVlL7o7IyL2"
      },
      "source": [
        "Sigui n la llargada de la llista introduïda. \n",
        "\n",
        "COMPLEXITAT USANT QUICKSORT\n",
        "\n",
        "Si totes les particions passen al mig del vector tenim el millor cas, i el nombre de comparacions serà:\n",
        "\n",
        "T(n) = 2 T(n/2) + O(n). És a dir, a = 2, b = 2, d = 1, i com log_b(a) = log_2(2) = 1 = d, tenim segons el segon cas del teorema Master, que és O(n log n).\n",
        "\n",
        "En el pitjor cas totes les particions són als extrems (alguna de les subllistes estarà buida), llavors el nombre de comparacions serà T(n) = O(n^2), però observem que sempre podem desordenar la llista al principi i aquest cas no existirà mai. Per tant, quicksort té una complexitat de O(n log n).\n",
        "\n",
        "COMPLEXITAT USANT MERGESORT\n",
        "\n",
        "La funció merge té una complexitat per cada crida recursiva O(n) (en el pitjor dels casos). Com que aquesta és la funció que usem per combinar les solucions parcials, tenim que d=1.\n",
        "\n",
        "Quan dividim creem 2 problemes (a = 2), de mida n/2 (b = 2). Per tant,  log_b(a) = log_2(2) = 1 = d, i aplicant el cas 2 del teorema Master, tenim que mergesort té una complexitat O(n log n)."
      ]
    },
    {
      "cell_type": "code",
      "metadata": {
        "id": "VKzM5tT9fg2x"
      },
      "source": [
        "def partition(A, first, last):                           \n",
        "    mid = (first + last)//2                              \n",
        "    if mid % 2 != 0: mid += 1                            \n",
        "    if A[first] > A [mid]:                               \n",
        "        A[first], A[mid] = A[mid], A[first]              \n",
        "        A[first+1], A[mid+1] = A[mid+1], A[first+1]      \n",
        "    if A[first] > A [last]:                              \n",
        "        A[first], A[last] = A[last], A[first]            \n",
        "        A[first+1], A[last-1] = A[last-1], A[first+1]    \n",
        "    if A[mid] > A[last]:                                 \n",
        "        A[mid], A[last] = A[last], A[mid]                \n",
        "        A[mid+1], A[last-1] = A[last-1], A[mid+1]        \n",
        "    A[mid], A[first] = A[first], A[mid]                  \n",
        "    A[mid+1], A[first+1] = A[first+1], A[mid+1]          \n",
        "  \n",
        "    pivot = first                                       \n",
        "    i = first + 2                                       \n",
        "    j = last - 1                                        \n",
        "    while True:\n",
        "        while i <= last and A[i] <= A[pivot]: i += 2     \n",
        "        while j >= first and A[j] > A[pivot]: j -= 2     \n",
        "        if i >= j: break                                 \n",
        "        else:                                           \n",
        "            A[i], A[j] = A[j], A[i]                      \n",
        "            A[i+1], A[j+1] = A[j+1], A[i+1]             \n",
        "    A[j], A[pivot] = A[pivot], A[j]                      \n",
        "    A[j+1], A[pivot+1] = A[pivot+1], A[j+1]              \n",
        "    return j                                           "
      ],
      "execution_count": 5,
      "outputs": []
    },
    {
      "cell_type": "code",
      "metadata": {
        "id": "ZyCkl456fkEL"
      },
      "source": [
        "def quick_sort(A):                                \n",
        "    quick_sort_r(A, 0, len(A) - 1)                \n",
        "\n",
        "def quick_sort_r(A , first, last):                \n",
        "    if last > first:                              \n",
        "        pivot = partition(A, first, last)        \n",
        "        quick_sort_r(A, first, pivot - 1)        \n",
        "        quick_sort_r(A, pivot + 2, last)          "
      ],
      "execution_count": 6,
      "outputs": []
    },
    {
      "cell_type": "code",
      "metadata": {
        "id": "K_kQYu5wIaEJ"
      },
      "source": [
        "def merge(x,y):                                  \n",
        "    if len(x) < 2:                               \n",
        "        return y                                 \n",
        "    if len(y) < 2:                               \n",
        "        return x                                 \n",
        "    if x[0] <= y[0]:                             \n",
        "        return [x[0], x[1]] + merge(x[2:],y)     \n",
        "    else:                                        \n",
        "        return [y[0], y[1]] + merge(x,y[2:])     "
      ],
      "execution_count": 7,
      "outputs": []
    },
    {
      "cell_type": "code",
      "metadata": {
        "id": "Kfpgz8QJIcXR"
      },
      "source": [
        "def mergesort(llista):                           \n",
        "    if len(llista) < 3:                          \n",
        "        return llista                            \n",
        "    else:                                        \n",
        "        middle = len(llista) // 2                \n",
        "        if middle % 2 != 0: middle += 1          \n",
        "        left = mergesort(llista[:middle])        \n",
        "        right = mergesort(llista[middle:])       \n",
        "        return merge(left, right)                "
      ],
      "execution_count": 8,
      "outputs": []
    },
    {
      "cell_type": "code",
      "metadata": {
        "id": "05-qL-nwT74i"
      },
      "source": [
        "import time\n",
        "def ordenar_parelles_quicksort(llista):\n",
        "    t_inicial = time.time()\n",
        "    quick_sort(llista)\n",
        "    t_final = time.time()\n",
        "    print(\"TEMPS QUICKSORT:\", t_final - t_inicial)"
      ],
      "execution_count": 9,
      "outputs": []
    },
    {
      "cell_type": "code",
      "metadata": {
        "id": "NMM0xCiBwW7I"
      },
      "source": [
        "import time\n",
        "def ordenar_parelles_mergesort(llista):\n",
        "    t_inicial = time.time()\n",
        "    llista[:] = mergesort(llista)\n",
        "    t_final = time.time()\n",
        "    print(\"TEMPS MERGESORT:\", t_final - t_inicial)"
      ],
      "execution_count": 10,
      "outputs": []
    },
    {
      "cell_type": "code",
      "metadata": {
        "id": "cmXCxP63UNzS",
        "colab": {
          "base_uri": "https://localhost:8080/"
        },
        "outputId": "5e8de957-ffe7-4f6c-fe21-f71bce220113"
      },
      "source": [
        "llista = [3,3,1,1,5,5,0,0]\n",
        "ordenar_parelles_quicksort(llista)\n",
        "assert llista == [0,0,1,1,3,3,5,5]"
      ],
      "execution_count": 11,
      "outputs": [
        {
          "output_type": "stream",
          "text": [
            "TEMPS QUICKSORT: 1.9311904907226562e-05\n"
          ],
          "name": "stdout"
        }
      ]
    },
    {
      "cell_type": "code",
      "metadata": {
        "colab": {
          "base_uri": "https://localhost:8080/"
        },
        "id": "3Mb1I2ykxwD-",
        "outputId": "c7adedd6-973a-4787-d2af-5045b928837d"
      },
      "source": [
        "llista = [3,3,1,1,5,5,0,0]\n",
        "ordenar_parelles_mergesort(llista)\n",
        "assert llista == [0,0,1,1,3,3,5,5]"
      ],
      "execution_count": 12,
      "outputs": [
        {
          "output_type": "stream",
          "text": [
            "TEMPS MERGESORT: 6.866455078125e-05\n"
          ],
          "name": "stdout"
        }
      ]
    },
    {
      "cell_type": "code",
      "metadata": {
        "colab": {
          "base_uri": "https://localhost:8080/"
        },
        "id": "op39wAX7Sqr1",
        "outputId": "bbcbff00-f036-4721-aafc-13e3a73fa59e"
      },
      "source": [
        "llista = [3,3,1,1,5,5,0,0,-3,-3,5,5,0,0,2,2,8,8,7,7,6,6,0,0,2,2,10,10,3,3,5,5,10,10,4,4,3,3,-2,-2,-1,-1,20,20,30,30,-4,-4]\n",
        "ordenar_parelles_quicksort(llista)\n",
        "print(llista)"
      ],
      "execution_count": 13,
      "outputs": [
        {
          "output_type": "stream",
          "text": [
            "TEMPS QUICKSORT: 9.012222290039062e-05\n",
            "[-4, -4, -3, -3, -2, -2, -1, -1, 0, 0, 0, 0, 0, 0, 1, 1, 2, 2, 2, 2, 3, 3, 3, 3, 3, 3, 4, 4, 5, 5, 5, 5, 5, 5, 6, 6, 7, 7, 8, 8, 10, 10, 10, 10, 20, 20, 30, 30]\n"
          ],
          "name": "stdout"
        }
      ]
    },
    {
      "cell_type": "code",
      "metadata": {
        "colab": {
          "base_uri": "https://localhost:8080/"
        },
        "id": "2f7TV8MkyA0l",
        "outputId": "6eafa6ed-778e-4bf1-e30b-929de447888c"
      },
      "source": [
        "llista = [3,3,1,1,5,5,0,0,-3,-3,5,5,0,0,2,2,8,8,7,7,6,6,0,0,2,2,10,10,3,3,5,5,10,10,4,4,3,3,-2,-2,-1,-1,20,20,30,30,-4,-4]\n",
        "ordenar_parelles_mergesort(llista)\n",
        "print(llista)"
      ],
      "execution_count": 14,
      "outputs": [
        {
          "output_type": "stream",
          "text": [
            "TEMPS MERGESORT: 0.00011134147644042969\n",
            "[-4, -4, -3, -3, -2, -2, -1, -1, 0, 0, 0, 0, 0, 0, 1, 1, 2, 2, 2, 2, 3, 3, 3, 3, 3, 3, 4, 4, 5, 5, 5, 5, 5, 5, 6, 6, 7, 7, 8, 8, 10, 10, 10, 10, 20, 20, 30, 30]\n"
          ],
          "name": "stdout"
        }
      ]
    },
    {
      "cell_type": "markdown",
      "metadata": {
        "id": "xdDPSl0KvAAx"
      },
      "source": [
        "Observem que, sobretot per llistes llargues, és millor usar quicksort."
      ]
    }
  ]
}