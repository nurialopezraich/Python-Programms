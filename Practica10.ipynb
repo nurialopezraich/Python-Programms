{
  "nbformat": 4,
  "nbformat_minor": 0,
  "metadata": {
    "colab": {
      "name": "Practica10.ipynb",
      "provenance": [],
      "collapsed_sections": []
    },
    "kernelspec": {
      "name": "python3",
      "display_name": "Python 3"
    }
  },
  "cells": [
    {
      "cell_type": "markdown",
      "metadata": {
        "id": "5Fakz3A0jueA"
      },
      "source": [
        "# 5.6.1. Escriu una funció no recursiva anomenada negatius tal que donada una llista de nombres enters modifiqui la llista per col·locar els nombres negatius al principi de la llista. Observa que aquesta funció no ha de retornar res, només modifica la llista d’entrada."
      ]
    },
    {
      "cell_type": "markdown",
      "metadata": {
        "id": "LW4FV145VyHW"
      },
      "source": [
        "Considero, tal i com ha dit el professor de pràctiques, que 0 el comptem negatiu"
      ]
    },
    {
      "cell_type": "code",
      "metadata": {
        "id": "cospVPUQjpzd"
      },
      "source": [
        "def negatius(llista):\n",
        "    j = 0\n",
        "    for i in range(len(llista)):\n",
        "        if llista[i] < 1:\n",
        "            llista[i], llista[j] = llista[j], llista[i]\n",
        "            j += 1\n"
      ],
      "execution_count": 2,
      "outputs": []
    },
    {
      "cell_type": "code",
      "metadata": {
        "colab": {
          "base_uri": "https://localhost:8080/"
        },
        "id": "AVRHSZfF9Ihs",
        "outputId": "43ab734a-bcb4-4bb6-ef7a-0cf395f08b29"
      },
      "source": [
        "llista = [1, -2, 3, -4, -3, 5, 6]\n",
        "negatius(llista)\n",
        "print(llista)"
      ],
      "execution_count": 3,
      "outputs": [
        {
          "output_type": "stream",
          "text": [
            "[-2, -4, -3, 1, 3, 5, 6]\n"
          ],
          "name": "stdout"
        }
      ]
    },
    {
      "cell_type": "code",
      "metadata": {
        "colab": {
          "base_uri": "https://localhost:8080/"
        },
        "id": "RrdNH0_h9ovN",
        "outputId": "5167c471-9e3a-449e-b379-5833fc362917"
      },
      "source": [
        "llista = [0,-2, -2, 3, -4, -3, 5, -6, 0]\n",
        "negatius(llista)\n",
        "print(llista)"
      ],
      "execution_count": 4,
      "outputs": [
        {
          "output_type": "stream",
          "text": [
            "[0, -2, -2, -4, -3, -6, 0, 3, 5]\n"
          ],
          "name": "stdout"
        }
      ]
    },
    {
      "cell_type": "markdown",
      "metadata": {
        "id": "Zo7MgRtHj-_R"
      },
      "source": [
        "#5.19.1. Escriu una funció recursiva, karatsuba, que calculi la multiplicació pel mètode de Karatsuba en base 10 de dos nombres. Apunta la complexitat de les operacions involucrades"
      ]
    },
    {
      "cell_type": "markdown",
      "metadata": {
        "id": "OCLwas5vS-86"
      },
      "source": [
        "*Explica quantes vegades es crida a l’executar karatsuba(1000, 1050)*\n",
        "```\n",
        " 1 -> karatsuba(1000,1050)\n",
        "    n = 4 m = 2 a = 10 b = 0 c = 10 d = 5\n",
        "    2 -> karatsuba(10,10)\n",
        "    n = 2 m = 1 a = 1 b = 0 c = 1 d = 0\n",
        "       5 -> karatsuba(1,1) -> cas base\n",
        "       6 -> karatsuba(0,0) -> cas base\n",
        "       7 -> karatsuba(1,1) -> cas base\n",
        "    3 -> karatsuba(0,50) -> cas base\n",
        "    4 -> karatsuba(10,10)\n",
        "    n = 2 m = 1 a = 2 b = 0 c = 6 d = 0\n",
        "       8 -> karatsuba(2,6) -> cas base\n",
        "       9 -> karatsuba(0,0) -> cas base\n",
        "      10 -> karatsuba(2,6) -> cas base\n",
        "```\n",
        "Per tant, es crida 10 vegades.\n",
        "\n"
      ]
    },
    {
      "cell_type": "code",
      "metadata": {
        "id": "0HM-BAEdkLoD"
      },
      "source": [
        "def karatsuba(x,y):                                            \n",
        "    if x < 10 or y < 10:                                       #0(1)\n",
        "        return x * y                                           #0(1)  \n",
        "    else:                                                      \n",
        "        n = max(len(str(x)),len(str(y)))                       #0(1)\n",
        "        m = n // 2                                             #0(1)\n",
        "  \n",
        "        a = x // 10 ** m                                       #0(1) per nombres petits, O(n^2) per nombres molt grans \n",
        "        b = x % 10 ** m                                        #0(1) per nombres petits, O(n^2) per nombres molt grans \n",
        "        c = y // 10 ** m                                       #0(1) per nombres petits, O(n^2) per nombres molt grans \n",
        "        d = y % 10 ** m                                        #0(1) per nombres petits, O(n^2) per nombres molt grans \n",
        "\n",
        "        ac = karatsuba(a,c)                                    #0(1)\n",
        "        bd = karatsuba(b,d)                                    #0(1)\n",
        "        ad_bc = karatsuba(a+b,c+d) - ac - bd                   #0(1)\n",
        "\n",
        "        prod = ac * 10 ** (2 * m) + (ad_bc * 10 ** m) + bd     #0(1) per nombres petits, O(n^2) per nombres molt grans \n",
        "    return prod                                                #0(1)"
      ],
      "execution_count": 6,
      "outputs": []
    },
    {
      "cell_type": "code",
      "metadata": {
        "colab": {
          "base_uri": "https://localhost:8080/"
        },
        "id": "BEUfpHujUEjj",
        "outputId": "3507128a-e7fd-4dff-9e50-f765f237b21f"
      },
      "source": [
        "karatsuba(2925,6872)"
      ],
      "execution_count": 7,
      "outputs": [
        {
          "output_type": "execute_result",
          "data": {
            "text/plain": [
              "20100600"
            ]
          },
          "metadata": {
            "tags": []
          },
          "execution_count": 7
        }
      ]
    },
    {
      "cell_type": "code",
      "metadata": {
        "colab": {
          "base_uri": "https://localhost:8080/"
        },
        "id": "LvytJnMWS7Jg",
        "outputId": "6658859a-fdcd-490e-bc03-3589b83183b8"
      },
      "source": [
        "karatsuba(103,56)"
      ],
      "execution_count": 8,
      "outputs": [
        {
          "output_type": "execute_result",
          "data": {
            "text/plain": [
              "5768"
            ]
          },
          "metadata": {
            "tags": []
          },
          "execution_count": 8
        }
      ]
    },
    {
      "cell_type": "code",
      "metadata": {
        "colab": {
          "base_uri": "https://localhost:8080/"
        },
        "id": "rr-20fZxAwdq",
        "outputId": "04ced8fa-2c35-43ea-db9d-188be5f72af1"
      },
      "source": [
        "karatsuba(0,57)"
      ],
      "execution_count": 10,
      "outputs": [
        {
          "output_type": "execute_result",
          "data": {
            "text/plain": [
              "0"
            ]
          },
          "metadata": {
            "tags": []
          },
          "execution_count": 10
        }
      ]
    },
    {
      "cell_type": "code",
      "metadata": {
        "id": "iXjxdifCkWgE"
      },
      "source": [
        "assert karatsuba(1100,4050) == 4455000"
      ],
      "execution_count": 12,
      "outputs": []
    },
    {
      "cell_type": "markdown",
      "metadata": {
        "id": "dDLosxqLn4fM"
      },
      "source": [
        "#5.23.2. Resol el problema del sumatori parcial màxim usant un algorisme que implementi l’estratègia de dividir i vèncer."
      ]
    },
    {
      "cell_type": "markdown",
      "metadata": {
        "id": "GLAaJXBV-EKo"
      },
      "source": [
        "*Demostra que la complexitat d’aquest algorisme és O(n log(n))*\n",
        "\n",
        "Sigui n la longitud de la llista d'entrada.\n",
        "\n",
        "Per demostrar la complexitat usem el Teorema Master:\n",
        "Tenim un problema que es pot dividir en 2 subproblemes (a = 2), cada un dels quals processa unes dades que són 1/2 de les originals (b = 2), i la reconstrucció de la solució en costa O(n) (d = 1), per tant, podem aplicar el cas (2) del teorema Master, perquè d=1=log_b(a)=log_2(2), i per tant resulta O(n log(n)).\n",
        "."
      ]
    },
    {
      "cell_type": "code",
      "metadata": {
        "id": "3vgyGM25n9yH"
      },
      "source": [
        "def sumatori_parcial_divider_vencer(llista):\n",
        "    if len(llista) == 1:\n",
        "        return llista[0]\n",
        "    else:\n",
        "        llista_esq = llista[0:len(llista)//2][::-1]\n",
        "        llista_dr = llista[len(llista)//2:len(llista)]\n",
        "        max_esq, max_dr = - float('inf'), - float('inf')\n",
        "\n",
        "        acum = 0\n",
        "        for i in llista_esq:\n",
        "            acum += i\n",
        "            if acum > max_esq:\n",
        "                max_esq = acum\n",
        "\n",
        "        acum = 0\n",
        "        for i in llista_dr:\n",
        "            acum += i\n",
        "            if acum > max_dr:\n",
        "                max_dr = acum\n",
        "\n",
        "        sum_esq = sumatori_parcial_divider_vencer(llista_esq)\n",
        "        sum_dr = sumatori_parcial_divider_vencer(llista_dr)\n",
        "        max_sum = max(max_esq+max_dr,sum_esq,sum_dr)\n",
        "    return max_sum"
      ],
      "execution_count": 13,
      "outputs": []
    },
    {
      "cell_type": "code",
      "metadata": {
        "colab": {
          "base_uri": "https://localhost:8080/"
        },
        "id": "qjdnBiQ2EBzE",
        "outputId": "2c208d17-1caa-4f1f-ed7f-1cb46bb53572"
      },
      "source": [
        "sumatori_parcial_divider_vencer([-1,-4,-6,-7])"
      ],
      "execution_count": 14,
      "outputs": [
        {
          "output_type": "execute_result",
          "data": {
            "text/plain": [
              "-1"
            ]
          },
          "metadata": {
            "tags": []
          },
          "execution_count": 14
        }
      ]
    },
    {
      "cell_type": "code",
      "metadata": {
        "id": "Jh53Rn6OoXOR",
        "colab": {
          "base_uri": "https://localhost:8080/"
        },
        "outputId": "a95cfaaf-6522-4bb5-a17e-be41b475a119"
      },
      "source": [
        "sumatori_parcial_divider_vencer([1, 2, -6, 4, -1, 2, 1, -5])"
      ],
      "execution_count": 15,
      "outputs": [
        {
          "output_type": "execute_result",
          "data": {
            "text/plain": [
              "6"
            ]
          },
          "metadata": {
            "tags": []
          },
          "execution_count": 15
        }
      ]
    },
    {
      "cell_type": "code",
      "metadata": {
        "id": "KVzcxUrajCCy"
      },
      "source": [
        "assert sumatori_parcial_divider_vencer([1, 2, -6, 4, -1, 2, 1, -5]) == 6\n",
        "assert sumatori_parcial_divider_vencer([-3, 1, -5, 2, 7, 8]) == 17\n",
        "assert sumatori_parcial_divider_vencer([1, 2, -5, 3, 6, -2, 4]) == 11"
      ],
      "execution_count": 16,
      "outputs": []
    },
    {
      "cell_type": "markdown",
      "metadata": {
        "id": "fsV-Oy3WoFr5"
      },
      "source": [
        "#5.23.3. Resol el problema del sumatori parcial màxim usant l’algorisme que es detalla a continuació. L’Algorisme Kadane consisteix a recórrer la llista una única vegada. Durant aquesta iteració necessitem emmagatzemar dos valors. Per una banda, la suma parcial de tots els elements anteriors (acum) i, per altra banda, la suma màxima que hem trobat fins al moment (màxim). Si en un moment determinat la suma parcial esdevé negativa, descartem la suma parcial i reiniciem el valor de la suma parcial."
      ]
    },
    {
      "cell_type": "markdown",
      "metadata": {
        "id": "RPkJ1O3arVok"
      },
      "source": [
        "Versió del problema plantejat pel llibre: si la llista és tota de nombres negatius, el sumatori parcial màxim serà negatiu, per tant el valor que retorna és 0"
      ]
    },
    {
      "cell_type": "code",
      "metadata": {
        "id": "LBOJYkR1oLqI"
      },
      "source": [
        "def sumatori_parcial_kadane(llista):\n",
        "    acum, max_sum = 0, 0\n",
        "    for i in llista:\n",
        "        acum += i\n",
        "        if acum < 0:\n",
        "            acum = 0\n",
        "        if acum > max_sum:\n",
        "            max_sum = acum\n",
        "    return max_sum"
      ],
      "execution_count": 55,
      "outputs": []
    },
    {
      "cell_type": "code",
      "metadata": {
        "id": "C8vvgl23oSiZ"
      },
      "source": [
        "assert sumatori_parcial_kadane([1, 2, -6, 4, -1, 2, 1, -5]) == 6\n",
        "assert sumatori_parcial_kadane([-3, 1, -5, 2, 7, 8]) == 17\n",
        "assert sumatori_parcial_kadane([1, 2, -5, 3, 6, -2, 4]) == 11"
      ],
      "execution_count": 56,
      "outputs": []
    },
    {
      "cell_type": "code",
      "metadata": {
        "colab": {
          "base_uri": "https://localhost:8080/"
        },
        "id": "iDbqUN4JCOd7",
        "outputId": "afec093a-c66d-44fd-aa4d-b983e44e40af"
      },
      "source": [
        "sumatori_parcial_kadane([-1,-4,-6,-7])"
      ],
      "execution_count": 57,
      "outputs": [
        {
          "output_type": "execute_result",
          "data": {
            "text/plain": [
              "0"
            ]
          },
          "metadata": {
            "tags": []
          },
          "execution_count": 57
        }
      ]
    },
    {
      "cell_type": "markdown",
      "metadata": {
        "id": "k0Qz2xG2roix"
      },
      "source": [
        "Versió plantejada pel professor de pràctiques: retorna la solució realment correcta del sumatori parcial màxim en aquests casos, és a dir, el número negatiu més petit en valor absolut, enlloc de 0) "
      ]
    },
    {
      "cell_type": "code",
      "metadata": {
        "id": "1br7hZqs8hmn"
      },
      "source": [
        "def sumatori_parcial_kadane2(llista):\n",
        "    acum, max_sum = 0, -float('inf')\n",
        "    for i in llista:\n",
        "        acum += i\n",
        "        if acum > max_sum:\n",
        "            max_sum = acum\n",
        "        if acum < 0:\n",
        "            acum = 0\n",
        "    return max_sum"
      ],
      "execution_count": 58,
      "outputs": []
    },
    {
      "cell_type": "code",
      "metadata": {
        "id": "s327-sWC8qAF"
      },
      "source": [
        "assert sumatori_parcial_kadane2([1, 2, -6, 4, -1, 2, 1, -5]) == 6\n",
        "assert sumatori_parcial_kadane2([-3, 1, -5, 2, 7, 8]) == 17\n",
        "assert sumatori_parcial_kadane2([1, 2, -5, 3, 6, -2, 4]) == 11"
      ],
      "execution_count": 59,
      "outputs": []
    },
    {
      "cell_type": "code",
      "metadata": {
        "colab": {
          "base_uri": "https://localhost:8080/"
        },
        "id": "knJ7EoT97om5",
        "outputId": "ed28bc7f-ff95-4e4a-c165-5914e584007e"
      },
      "source": [
        "sumatori_parcial_kadane2([-1,-4,-6,-7])"
      ],
      "execution_count": 60,
      "outputs": [
        {
          "output_type": "execute_result",
          "data": {
            "text/plain": [
              "-1"
            ]
          },
          "metadata": {
            "tags": []
          },
          "execution_count": 60
        }
      ]
    }
  ]
}