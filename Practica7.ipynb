{
  "nbformat": 4,
  "nbformat_minor": 0,
  "metadata": {
    "colab": {
      "name": "Practica7.ipynb",
      "provenance": [],
      "collapsed_sections": []
    },
    "kernelspec": {
      "name": "python3",
      "display_name": "Python 3"
    }
  },
  "cells": [
    {
      "cell_type": "markdown",
      "metadata": {
        "id": "XZJlnBW4jYea"
      },
      "source": [
        "#4.1. Escriu una funció, acro, que a partir d’una frase sense punts, comes, accents,número ni cap signe de puntuació, imprimeixi l’acrònim corresponent."
      ]
    },
    {
      "cell_type": "markdown",
      "metadata": {
        "id": "-d9o9SW5RVSK"
      },
      "source": [
        "Compto el cost per n, on n és el nombre de caràcters de la frase introduïda"
      ]
    },
    {
      "cell_type": "code",
      "metadata": {
        "id": "yi_Gs-ZZjb0P"
      },
      "source": [
        "def acronim(frase):                                       #O(n)\n",
        "    acro = \"\".join(i[0] for i in frase.upper().split())   #O(n) \n",
        "    return acro                                           #O(1)"
      ],
      "execution_count": null,
      "outputs": []
    },
    {
      "cell_type": "code",
      "metadata": {
        "id": "7azB8cDNY-kg",
        "outputId": "1b06ac71-4734-4f9b-ef73-f0c80f01c2aa",
        "colab": {
          "base_uri": "https://localhost:8080/",
          "height": 35
        }
      },
      "source": [
        "acronim(\"Objecte volador no identificat\")"
      ],
      "execution_count": null,
      "outputs": [
        {
          "output_type": "execute_result",
          "data": {
            "application/vnd.google.colaboratory.intrinsic+json": {
              "type": "string"
            },
            "text/plain": [
              "'OVNI'"
            ]
          },
          "metadata": {
            "tags": []
          },
          "execution_count": 39
        }
      ]
    },
    {
      "cell_type": "code",
      "metadata": {
        "id": "kjNjR-1nY91G"
      },
      "source": [
        "assert acronim(\"Hola que tal\") == 'HQT'"
      ],
      "execution_count": null,
      "outputs": []
    },
    {
      "cell_type": "markdown",
      "metadata": {
        "id": "ooRflCBlkc1z"
      },
      "source": [
        "#4.6. Escriu una funció rle que donat un text de lletres ASCII (A-Z), el codifiqui usant l’algorisme RLE."
      ]
    },
    {
      "cell_type": "markdown",
      "metadata": {
        "id": "fuLZcAGRPfdI"
      },
      "source": [
        "Compto el cost per n, on n és la llargada del text introduït."
      ]
    },
    {
      "cell_type": "code",
      "metadata": {
        "id": "LVNi-FfcEbYs"
      },
      "source": [
        "def rle(text):                                                   #O(n)\n",
        "    text_codificat = ''                                          #O(1)\n",
        "    lletra_actual = ''                                           #O(1)\n",
        "    \n",
        "    for lletra in text:                                          #O(n)\n",
        "        if lletra != lletra_actual:                              #O(1)\n",
        "            if lletra_actual:                                    #O(1)\n",
        "                text_codificat += lletra_actual + str(compt)     #O(1)\n",
        "            compt = 1                                            #O(1)\n",
        "            lletra_actual = lletra                               #O(1)\n",
        "        else:                                                    #O(1)\n",
        "            compt += 1                                           #O(1)\n",
        "    text_codificat += lletra_actual + str(compt)                 #O(1)\n",
        "    return text_codificat                                        #O(1)"
      ],
      "execution_count": null,
      "outputs": []
    },
    {
      "cell_type": "code",
      "metadata": {
        "id": "zY8S5A-aGYIo",
        "outputId": "06071c68-92c5-4f5a-a1f3-331eb1c13c8c",
        "colab": {
          "base_uri": "https://localhost:8080/",
          "height": 35
        }
      },
      "source": [
        "rle(\"A\")"
      ],
      "execution_count": null,
      "outputs": [
        {
          "output_type": "execute_result",
          "data": {
            "application/vnd.google.colaboratory.intrinsic+json": {
              "type": "string"
            },
            "text/plain": [
              "'A1'"
            ]
          },
          "metadata": {
            "tags": []
          },
          "execution_count": 11
        }
      ]
    },
    {
      "cell_type": "code",
      "metadata": {
        "id": "suVAjNyc4cyR",
        "outputId": "a0a29158-f34f-4666-a609-009dfb8856a8",
        "colab": {
          "base_uri": "https://localhost:8080/",
          "height": 35
        }
      },
      "source": [
        "rle('ABBCCCDDDDEEEEE')"
      ],
      "execution_count": null,
      "outputs": [
        {
          "output_type": "execute_result",
          "data": {
            "application/vnd.google.colaboratory.intrinsic+json": {
              "type": "string"
            },
            "text/plain": [
              "'A1B2C3D4E5'"
            ]
          },
          "metadata": {
            "tags": []
          },
          "execution_count": 12
        }
      ]
    },
    {
      "cell_type": "code",
      "metadata": {
        "id": "pSTi3aNp-NAq"
      },
      "source": [
        "assert rle('BBBBBBBBBBBBBBBBBWWWWWWZAAA') == 'B17W6Z1A3'\n",
        "assert rle('ABBBBNNNEEEDDDZZAAAAA') == 'A1B4N3E3D3Z2A5'"
      ],
      "execution_count": null,
      "outputs": []
    },
    {
      "cell_type": "markdown",
      "metadata": {
        "id": "RKvI9q2Wt-FE"
      },
      "source": [
        "#4.7 Escriu una funció anomenada subcadena_mes_llarga que donada una cadena de caràcters, identifiqui la subcadena més llarga que no contingui cap caràcter repetit."
      ]
    },
    {
      "cell_type": "markdown",
      "metadata": {
        "id": "eXUprO6jmz8W"
      },
      "source": [
        "Compto el cost per n, on n és la llargada de la cadena introduïda"
      ]
    },
    {
      "cell_type": "code",
      "metadata": {
        "id": "b4yWllhAn4JT"
      },
      "source": [
        "def subcadena_mes_llarga(cadena):                                      #0(n)\n",
        "    \n",
        "    caracters = {caracter: True for caracter in cadena}                #0(1)\n",
        "    ppi_subcadena = 0                                                  #0(1)\n",
        "    final_subcadena = 0                                                #0(1)\n",
        "    principi = 0                                                       #0(1)\n",
        "\n",
        "    for posicio in range(len(cadena)):                                 #0(n)\n",
        "        if caracters[cadena[posicio]]:                                 #0(1)\n",
        "            caracters[cadena[posicio]] = False                         #0(1)\n",
        "            posicio += 1                                               #0(1)\n",
        "            if posicio - principi > final_subcadena - ppi_subcadena:   #0(1)\n",
        "                ppi_subcadena = principi                               #0(1)\n",
        "                final_subcadena = posicio                              #0(1)\n",
        "        else:                                                          #0(1)\n",
        "            while (cadena[principi] != cadena[posicio]):               #0(1) \n",
        "                caracters[cadena[principi]] = True                     #0(1)\n",
        "                principi += 1                                          #0(1)\n",
        "            principi += 1                                              #0(1)\n",
        "\n",
        "    return cadena[ppi_subcadena:final_subcadena]                       #0(1)"
      ],
      "execution_count": null,
      "outputs": []
    },
    {
      "cell_type": "code",
      "metadata": {
        "id": "Ot9VLRbWsHyZ",
        "outputId": "37938ae0-27c9-4ae5-ff53-28d44cb394c2",
        "colab": {
          "base_uri": "https://localhost:8080/",
          "height": 35
        }
      },
      "source": [
        "subcadena_mes_llarga(\"123123412345\")"
      ],
      "execution_count": null,
      "outputs": [
        {
          "output_type": "execute_result",
          "data": {
            "application/vnd.google.colaboratory.intrinsic+json": {
              "type": "string"
            },
            "text/plain": [
              "'12345'"
            ]
          },
          "metadata": {
            "tags": []
          },
          "execution_count": 161
        }
      ]
    },
    {
      "cell_type": "code",
      "metadata": {
        "id": "xggNiY8aro5z",
        "outputId": "4c416d17-7a34-47d6-defd-2a4569c0a353",
        "colab": {
          "base_uri": "https://localhost:8080/",
          "height": 35
        }
      },
      "source": [
        "subcadena_mes_llarga(\"algorismica\")"
      ],
      "execution_count": null,
      "outputs": [
        {
          "output_type": "execute_result",
          "data": {
            "application/vnd.google.colaboratory.intrinsic+json": {
              "type": "string"
            },
            "text/plain": [
              "'algorism'"
            ]
          },
          "metadata": {
            "tags": []
          },
          "execution_count": 162
        }
      ]
    },
    {
      "cell_type": "code",
      "metadata": {
        "id": "2m8SFqmbnlen"
      },
      "source": [
        "assert subcadena_mes_llarga('lacadenamesllarga') == 'namesl'\n",
        "assert subcadena_mes_llarga('mesllarga') == 'mesl'\n",
        "assert subcadena_mes_llarga('aaa') == 'a'"
      ],
      "execution_count": null,
      "outputs": []
    }
  ]
}