{
  "nbformat": 4,
  "nbformat_minor": 0,
  "metadata": {
    "colab": {
      "name": "Practica6.ipynb",
      "provenance": [],
      "collapsed_sections": []
    },
    "kernelspec": {
      "name": "python3",
      "display_name": "Python 3"
    }
  },
  "cells": [
    {
      "cell_type": "markdown",
      "metadata": {
        "id": "l9BWqPp2PcDd"
      },
      "source": [
        "PER CALCULAR TOTS ELS COSTOS, CONSIDERO QUE NO ESTEM TREBALLANT AMB NOMBRES GRANS (+ de 64 bits), I PER TANT LES OPERACIONS ELEMENTALS(+,/...) TENEN COST 1"
      ]
    },
    {
      "cell_type": "markdown",
      "metadata": {
        "id": "X1h2J3bNh-_T"
      },
      "source": [
        "#3.6.1. Lletra NIF: Escriu una funció, validar_NIF, que validi si en un NIF, la lletra es correspon realment al nombre del DNI."
      ]
    },
    {
      "cell_type": "code",
      "metadata": {
        "id": "nGjZ3Q_AeKO6"
      },
      "source": [
        "def validar_NIF(cadenaNIF):                                                                                        # O(1)\n",
        "    taula = {0: 'T', 1: 'R', 2:'W', 3:'A', 4: 'G', 5:'M', 6:'Y', 7: 'F', 8:'P', 9:'D', 10: 'X', 11:'B', 12:'N', \n",
        "             13: 'J', 14:'Z', 15:'S', 16: 'Q', 17:'V', 18:'H', 19: 'L', 20:'C', 21:'K', 22: 'E'}                   # O(1)\n",
        "    num = int(cadenaNIF[0:len(cadenaNIF)-1])                                                                       # O(1)\n",
        "    return cadenaNIF[-1] == taula[num % 23]                                                                        # O(1)"
      ],
      "execution_count": null,
      "outputs": []
    },
    {
      "cell_type": "code",
      "metadata": {
        "id": "MI9y9YizOLi-",
        "outputId": "2d9d1b88-b67a-46ab-dc5d-95c16cbb3ab5",
        "colab": {
          "base_uri": "https://localhost:8080/"
        }
      },
      "source": [
        "validar_NIF('33333333T')"
      ],
      "execution_count": null,
      "outputs": [
        {
          "output_type": "execute_result",
          "data": {
            "text/plain": [
              "False"
            ]
          },
          "metadata": {
            "tags": []
          },
          "execution_count": 37
        }
      ]
    },
    {
      "cell_type": "code",
      "metadata": {
        "id": "Hocn8VG9O7m4",
        "outputId": "6270ba7a-58b5-4bdb-bec6-b611bc842192",
        "colab": {
          "base_uri": "https://localhost:8080/"
        }
      },
      "source": [
        "validar_NIF('33333333P')"
      ],
      "execution_count": null,
      "outputs": [
        {
          "output_type": "execute_result",
          "data": {
            "text/plain": [
              "True"
            ]
          },
          "metadata": {
            "tags": []
          },
          "execution_count": 38
        }
      ]
    },
    {
      "cell_type": "code",
      "metadata": {
        "id": "75k3YlDyNomJ"
      },
      "source": [
        "assert validar_NIF('56789123F') == True\n",
        "assert validar_NIF('56789123H') == False"
      ],
      "execution_count": null,
      "outputs": []
    },
    {
      "cell_type": "markdown",
      "metadata": {
        "id": "vDXurbQWjFgd"
      },
      "source": [
        "#3.6.2. Columnes Full de Càlcul Escriu una funció per convertir un nombre en el nom de la columna del full de càlcul corresponent."
      ]
    },
    {
      "cell_type": "markdown",
      "metadata": {
        "id": "L8KsBVzTGQgX"
      },
      "source": [
        "Poso cost O(len(columna)), ja que seria el cost exacte, però realment com la llista columna no tindrà molts elements, el cost de la funció seria pràcticament 0(1)."
      ]
    },
    {
      "cell_type": "code",
      "metadata": {
        "id": "3uX1kidnjKFN"
      },
      "source": [
        "def conversio_fulla_calcul(num):                                                                                                 # O(len(columna)) \n",
        "    columna = []                                                                                                                 # O(1)\n",
        "    taula = {1: 'A', 2:'B', 3:'C', 4: 'D', 5:'E', 6:'F', 7: 'G', 8:'H', 9:'I', 10: 'J', 11:'K', 12:'L', 13: 'M', \n",
        "             14:'N', 15:'O', 16: 'P', 17:'Q', 18:'R', 19: 'S', 20:'T', 21:'U', 22: 'V', 23:'W', 24: 'X', 25:'Y', 26:'Z'}         # O(1)\n",
        "    while num > 0:                                                                                                               # O(1)\n",
        "        columna.append(taula[num % 26])                                                                                          # O(1)\n",
        "        num = num //26                                                                                                           # O(1)\n",
        "    columna.reverse()                                                                                                            # O(len(columna)) \n",
        "    columna = \"\".join(columna)                                                                                                   # O(1)\n",
        "    return columna                                                                                                               # O(1)"
      ],
      "execution_count": 5,
      "outputs": []
    },
    {
      "cell_type": "code",
      "metadata": {
        "id": "UkYwzVzNYmxd",
        "outputId": "c887d4b7-7950-455c-8120-d82e8ae34d37",
        "colab": {
          "base_uri": "https://localhost:8080/",
          "height": 35
        }
      },
      "source": [
        "conversio_fulla_calcul(708) "
      ],
      "execution_count": 6,
      "outputs": [
        {
          "output_type": "execute_result",
          "data": {
            "application/vnd.google.colaboratory.intrinsic+json": {
              "type": "string"
            },
            "text/plain": [
              "'AAF'"
            ]
          },
          "metadata": {
            "tags": []
          },
          "execution_count": 6
        }
      ]
    },
    {
      "cell_type": "code",
      "metadata": {
        "id": "yCEcS7OBSPbZ"
      },
      "source": [
        "assert conversio_fulla_calcul(1000) == 'ALL'\n",
        "assert conversio_fulla_calcul(107) == 'DC'"
      ],
      "execution_count": 7,
      "outputs": []
    },
    {
      "cell_type": "markdown",
      "metadata": {
        "id": "iVGjyRFijt6A"
      },
      "source": [
        "#3.8.1. Primer 10001 * Si llistem els primers 6 nombres primers: 2, 3, 5, 7, 11, i 13, podem veure que el 6è primer és el 13. Quin és el primer que ocupa la posició 10001?"
      ]
    },
    {
      "cell_type": "markdown",
      "metadata": {
        "id": "AFihNTt6ouL4"
      },
      "source": [
        "1. Escriu una llista llista1 amb els números del 2 fins a l’enter més gran N\n",
        "que vulguis calcular.\n",
        "2. El primer nombre de la llista és un nombre primer. Anota’l en una llista\n",
        "de nombres primers, llista2 .\n",
        "3. Esborra de la llista llista1 el primer nombre i els seus múltiples.\n",
        "4. Si el primer nombre de la llista llista1 és més petit que l’arrel quadrada\n",
        "de N , torna al punt 2.\n",
        "5. Els nombres de la llista llista2 i els que queden a la llista llista1 són tots els nombres primers cercats."
      ]
    },
    {
      "cell_type": "code",
      "metadata": {
        "id": "OCmG9cRBj0yr"
      },
      "source": [
        "from math import sqrt\n",
        "from math import log\n",
        "\n",
        "def eratostenes(n):                                                # O((n*log(n*log(n)))^2)\n",
        "    llista1 = []                                                   # O(1)\n",
        "    llista2 = []                                                   # O(1)\n",
        " \n",
        "    if n<6:                                                        # O(1)\n",
        "        x = 2*(n+1)                                                # O(1)\n",
        "    else:                                                          # O(1)\n",
        "      x=int(n*log(n*log(n)))                                       # O(1)\n",
        "\n",
        "    llista1 = [i for i in range (2,x)]                             # O(n*log(n*log(n)))\n",
        "    \n",
        "    while (llista1[0] < sqrt(x)):                                  # O((n*log(n*log(n)))^2)\n",
        "        llista2.append(llista1[0])                                 # O(1)\n",
        "        for i in llista1:                                          # O((n*log(n*log(n)))^2)\n",
        "            if (i % llista1[0] == 0) & (i != llista1[0]):          # O(1)\n",
        "                llista1.remove(i)                                  # O(n*log(n*log(n)))\n",
        "        llista1.remove(llista1[0])                                 # O(n*log(n*log(n)))\n",
        "\n",
        "    llista_primers = llista2 + llista1                             # O(2) -> O(1)\n",
        "    return llista_primers                                          # O(1)\n",
        "\n",
        "def primer(n):                                                     # O((n*log(n*log(n)))^2)\n",
        "    ennessim_primer = eratostenes(n)[n-1]                          # O((n*log(n*log(n)))^2)\n",
        "    return ennessim_primer                                         # O(1)"
      ],
      "execution_count": 14,
      "outputs": []
    },
    {
      "cell_type": "code",
      "metadata": {
        "id": "B8I-Yz1RNPF9"
      },
      "source": [
        "assert primer(6) == 13"
      ],
      "execution_count": 22,
      "outputs": []
    },
    {
      "cell_type": "code",
      "metadata": {
        "id": "wPWGe9XX87th"
      },
      "source": [
        "assert primer(10001) == 104743"
      ],
      "execution_count": 24,
      "outputs": []
    },
    {
      "cell_type": "markdown",
      "metadata": {
        "id": "T_63-QKWkBik"
      },
      "source": [
        "#3.8.2. Factor primer més gran Escriu una funció que calculi el factor primer més gran d’un nombre natural donat."
      ]
    },
    {
      "cell_type": "code",
      "metadata": {
        "id": "hUtAt79EkEm9"
      },
      "source": [
        "def factor_primer_mes_gran(n):      # O(n^2)\n",
        "    i = 2                           # O(1)\n",
        "    while i < n:                    # O(n^2)\n",
        "        while n % i == 0:           # O(n)\n",
        "            n = n / i               # O(2) -> O(1)\n",
        "        i += 1                      # O(2) -> O(1)\n",
        "    factor = n                      # O(1)\n",
        "    return factor                   # O(1)"
      ],
      "execution_count": 12,
      "outputs": []
    },
    {
      "cell_type": "code",
      "metadata": {
        "id": "fbP8UDGZhEep",
        "outputId": "d48272a4-b95b-4288-ec8e-4c036264c396",
        "colab": {
          "base_uri": "https://localhost:8080/"
        }
      },
      "source": [
        "factor_primer_mes_gran(13195)"
      ],
      "execution_count": 13,
      "outputs": [
        {
          "output_type": "execute_result",
          "data": {
            "text/plain": [
              "29.0"
            ]
          },
          "metadata": {
            "tags": []
          },
          "execution_count": 13
        }
      ]
    },
    {
      "cell_type": "code",
      "metadata": {
        "id": "XhbXu31_lJ4D"
      },
      "source": [
        "assert factor_primer_mes_gran(600851475143) == 6857"
      ],
      "execution_count": null,
      "outputs": []
    },
    {
      "cell_type": "markdown",
      "metadata": {
        "id": "PF4oAnrpkKY0"
      },
      "source": [
        "#3.9.1. Primer de Weiferich Un primer de Wieferich és un nombre primer p tal que p^2 divideix 2^(p−1) − 1. Quins primer de Wieferich hi ha menors que 5000?"
      ]
    },
    {
      "cell_type": "code",
      "metadata": {
        "id": "lKQWb6lX_o7m"
      },
      "source": [
        "from random import randint\n",
        "\n",
        "def fermat(num, k):                     # O(k)\n",
        "    if num == 1:                        # O(1)\n",
        "        return False                    # O(1)\n",
        "    for x in range(k):                  # O(k)\n",
        "        val = randint(1, num-1)         # O(1)\n",
        "        if pow(val, num-1, num) != 1:   # O(1)\n",
        "            return False                # O(1)\n",
        "    return True                         # O(1)\n",
        "\n",
        "def primers_Wieferich(n):                # O(n)\n",
        "    wieferichs = []                      # O(1)\n",
        "    for i in range(2,n):                 # O(n)   \n",
        "        if (2**(i-1) - 1) % (i*i) == 0:  # O(1) (es fan més operacions però totes de cost 1, es queda O(1))\n",
        "            if fermat(i,20):             # O(20) -> O(1)\n",
        "                wieferichs.append(i)     # O(1)\n",
        "    return wieferichs                    # O(1)\n"
      ],
      "execution_count": 27,
      "outputs": []
    },
    {
      "cell_type": "code",
      "metadata": {
        "id": "ouSh0LV0oLpx",
        "outputId": "35beddee-aab5-4eb0-d8a2-10a21ff5df1d",
        "colab": {
          "base_uri": "https://localhost:8080/"
        }
      },
      "source": [
        "%timeit primers_Wieferich(5000)"
      ],
      "execution_count": 28,
      "outputs": [
        {
          "output_type": "stream",
          "text": [
            "10 loops, best of 3: 22.1 ms per loop\n"
          ],
          "name": "stdout"
        }
      ]
    },
    {
      "cell_type": "code",
      "metadata": {
        "id": "2Z3lmgixvxEn",
        "outputId": "02ae0916-384e-414d-fa6b-245bd7941328",
        "colab": {
          "base_uri": "https://localhost:8080/"
        }
      },
      "source": [
        "primers_Wieferich(5000)"
      ],
      "execution_count": 29,
      "outputs": [
        {
          "output_type": "execute_result",
          "data": {
            "text/plain": [
              "[1093, 3511]"
            ]
          },
          "metadata": {
            "tags": []
          },
          "execution_count": 29
        }
      ]
    },
    {
      "cell_type": "code",
      "metadata": {
        "id": "BlzYTQ8IZEYR",
        "outputId": "a92d403e-ddfd-4298-82b7-ff9aa6058516",
        "colab": {
          "base_uri": "https://localhost:8080/"
        }
      },
      "source": [
        "primers_Wieferich(10000)"
      ],
      "execution_count": 30,
      "outputs": [
        {
          "output_type": "execute_result",
          "data": {
            "text/plain": [
              "[1093, 3511]"
            ]
          },
          "metadata": {
            "tags": []
          },
          "execution_count": 30
        }
      ]
    },
    {
      "cell_type": "markdown",
      "metadata": {
        "id": "zCSb4lvnkk1H"
      },
      "source": [
        "#3.9.2. Test de primeritat Escriu una funció factorp que comprovi si un determinat nombre n és primer mitjançant la tècnica de la factorització i que imprimeixi quant temps ha trigat a calcular-ho (pots usar aquest mètode).Escriu una segona funció, fermatp, que comprovi si un determinat nombre n > 10 és primer mitjançant la tècnica de Fermat fent la comprovació simplement amb els nombres a = 2, 3, 5 i que imprimeixi quant temps ha trigat a calcular-ho."
      ]
    },
    {
      "cell_type": "markdown",
      "metadata": {
        "id": "wRQr0zFKZaGN"
      },
      "source": [
        "Observem que en general, sobretot quan els nombres comencen a ser una mica grans, és millor usar fermatp, ja que triga molt menys."
      ]
    },
    {
      "cell_type": "code",
      "metadata": {
        "id": "3F9A_LZSks9x"
      },
      "source": [
        "from time import time\n",
        "\n",
        "def factorp(N):                 # O(n^2) \n",
        "    tinicial = time()           # O(1)\n",
        "    factors = 0                 # O(1)\n",
        "    i = 2                       # O(1)\n",
        "    while i < N:                # O(n^2)\n",
        "        while N % i == 0:       # O(n)\n",
        "            N = N / i           # O(2) -> O(1)\n",
        "            factors += 1        # O(2) -> O(1)\n",
        "        i += 1                  # O(2) -> O(1)\n",
        "    es_primer = (factors == 0)  # O(2) -> O(1)         \n",
        "    print(\"El temps d'execució és de %s segons\" % (time() - tinicial))\n",
        "    return es_primer            # O(1)\n",
        "\n",
        "def fermatp(N, a = [2, 3, 5]):   # O(1)\n",
        "    tinicial = time()            # O(1)   \n",
        "    es_primer = True             # O(1)\n",
        "    for x in a:                  # O(3) -> O(1)\n",
        "        if pow(x,N-1,N) != 1:    # O(1)       \n",
        "            es_primer = False    # O(1)\n",
        "    print(\"El temps d'execució és de %s segons\" % (time() - tinicial))\n",
        "    return es_primer             # O(1)"
      ],
      "execution_count": null,
      "outputs": []
    },
    {
      "cell_type": "code",
      "metadata": {
        "id": "wj9iaDTu4QgN",
        "outputId": "ab693758-ee64-490e-b059-62c16ac2cdb9",
        "colab": {
          "base_uri": "https://localhost:8080/"
        }
      },
      "source": [
        "assert factorp(12) == False"
      ],
      "execution_count": null,
      "outputs": [
        {
          "output_type": "stream",
          "text": [
            "El temps d'execució és de 5.9604644775390625e-06 segons\n"
          ],
          "name": "stdout"
        }
      ]
    },
    {
      "cell_type": "code",
      "metadata": {
        "id": "z2Bpqwiv5o2v",
        "outputId": "1636f077-2c45-4596-88d1-0f70c0e5dabd",
        "colab": {
          "base_uri": "https://localhost:8080/"
        }
      },
      "source": [
        "assert fermatp(12) == False"
      ],
      "execution_count": null,
      "outputs": [
        {
          "output_type": "stream",
          "text": [
            "El temps d'execució és de 5.7220458984375e-06 segons\n"
          ],
          "name": "stdout"
        }
      ]
    },
    {
      "cell_type": "code",
      "metadata": {
        "id": "U93PPj4PRe40",
        "outputId": "177f8372-1cf7-4f47-98f2-7aef7181db62",
        "colab": {
          "base_uri": "https://localhost:8080/"
        }
      },
      "source": [
        "factorp(41651)"
      ],
      "execution_count": null,
      "outputs": [
        {
          "output_type": "stream",
          "text": [
            "El temps d'execució és de 0.004781484603881836 segons\n"
          ],
          "name": "stdout"
        },
        {
          "output_type": "execute_result",
          "data": {
            "text/plain": [
              "True"
            ]
          },
          "metadata": {
            "tags": []
          },
          "execution_count": 150
        }
      ]
    },
    {
      "cell_type": "code",
      "metadata": {
        "id": "5uprCsnO5tZx",
        "outputId": "4fb7b184-0bbb-4c76-ddee-fe49fba5955e",
        "colab": {
          "base_uri": "https://localhost:8080/"
        }
      },
      "source": [
        "fermatp(41651)"
      ],
      "execution_count": null,
      "outputs": [
        {
          "output_type": "stream",
          "text": [
            "El temps d'execució és de 8.821487426757812e-06 segons\n"
          ],
          "name": "stdout"
        },
        {
          "output_type": "execute_result",
          "data": {
            "text/plain": [
              "True"
            ]
          },
          "metadata": {
            "tags": []
          },
          "execution_count": 151
        }
      ]
    }
  ]
}