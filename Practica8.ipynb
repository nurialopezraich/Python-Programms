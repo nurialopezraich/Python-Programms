{
  "nbformat": 4,
  "nbformat_minor": 0,
  "metadata": {
    "colab": {
      "name": "Practica8.ipynb",
      "provenance": [],
      "collapsed_sections": []
    },
    "kernelspec": {
      "name": "python3",
      "display_name": "Python 3"
    }
  },
  "cells": [
    {
      "cell_type": "markdown",
      "metadata": {
        "id": "WWEIIvdajfu3"
      },
      "source": [
        "#4.5. Fes una funció, anomenada dna, basada en l’algorisme de Levenshtein, que busqui dins d’una seqüència genètica una cadena genètica passada per paràmetre. Aquesta funció ha de retornar la lı́nia del fitxer on comença la cadena més semblant i la distància entre la cadena d’entrada i la cadena més semblant."
      ]
    },
    {
      "cell_type": "code",
      "metadata": {
        "id": "gI-7gW2RjLOv"
      },
      "source": [
        "def levensthein(patro, text, dlt = 2, insr = 2, subs = 1):\n",
        "    if len(patro) > len(text): \n",
        "        patro, second = text, patro\n",
        "    if len(text) == 0: \n",
        "        return len(patro)\n",
        "    first_length = len(patro) + 1\n",
        "    second_length = len(text) + 1\n",
        "\n",
        "    distance_matrix = [[0] * second_length for x in range(first_length)]\n",
        "    operacions_matrix = [[0] * second_length for x in range(first_length)]\n",
        "\n",
        "    #inicialitzo 1ra fila i columna de la matriu d'operacions tal i com s'indica a les diapositives de teoria\n",
        "    for i in range(first_length):\n",
        "        operacions_matrix[i][0] = 'D'\n",
        "    for i in range(second_length):\n",
        "        operacions_matrix[0][i] = 'I'\n",
        "    operacions_matrix[0][0] = 'S'\n",
        "\n",
        "    #omplo la matriu de distàncies\n",
        "    for i in range(first_length): \n",
        "        distance_matrix[i][0] = i\n",
        "    for j in range(second_length): \n",
        "        distance_matrix[0][j] = 0 \n",
        "    for i in range(1, first_length):\n",
        "        for j in range(1, second_length):\n",
        "            deletion = distance_matrix[i-1][j] + dlt  \n",
        "            insertion = distance_matrix[i][j-1] + insr\n",
        "            substitution = distance_matrix[i-1][j-1] \n",
        "            if patro[i-1] != text[j-1]: \n",
        "                substitution += subs  \n",
        "            distance_matrix[i][j] = min(substitution,insertion,deletion)\n",
        "            \n",
        "            #omplo la matriu d'operacions\n",
        "            if distance_matrix[i][j] == substitution:\n",
        "                if distance_matrix[i-1][j-1] + subs == substitution:\n",
        "                    operacions_matrix[i][j] = 'S'\n",
        "                else:\n",
        "                    operacions_matrix[i][j] = 'C'\n",
        "            elif distance_matrix[i][j] == insertion:\n",
        "                operacions_matrix[i][j] = 'I'\n",
        "            else:\n",
        "                operacions_matrix[i][j] = 'D'\n",
        "            \n",
        "    distancia_minima = min(distance_matrix[first_length-1])\n",
        "    posicio_min = distance_matrix[first_length-1].index(distancia_minima)\n",
        "\n",
        "    \n",
        "    #backtracking\n",
        "    cami = []\n",
        "    i = first_length - 1\n",
        "    j = posicio_min\n",
        "    while i > 0:\n",
        "        cami.append(operacions_matrix[i][j])\n",
        "        if operacions_matrix[i][j] == 'D':\n",
        "            i = i - 1\n",
        "        elif operacions_matrix[i][j] == 'I':\n",
        "            j = j - 1\n",
        "        else:\n",
        "            i = i - 1\n",
        "            j = j - 1\n",
        "\n",
        "    cami = cami[::-1]\n",
        "    return distancia_minima, posicio_min - first_length + 1, posicio_min, cami"
      ],
      "execution_count": 51,
      "outputs": []
    },
    {
      "cell_type": "code",
      "metadata": {
        "id": "jarNalW7DonL"
      },
      "source": [
        "def dna(patro, fitxer = 'HUMAN-DNA.txt'):\n",
        "    with open(fitxer,'r') as f:\n",
        "        text = f.read()\n",
        "        linies = text.split('\\n')\n",
        "    distancia_min = len(linies[0])\n",
        "    cami = []\n",
        "    cami_min = []\n",
        "    for linia in linies:\n",
        "        distancia, posicio_inicial, posicio_final, cami = levensthein(patro,linia)\n",
        "        if distancia < distancia_min:\n",
        "            distancia_min = distancia\n",
        "            num_linia = linies.index(linia)\n",
        "            posicio = (posicio_inicial, posicio_final)\n",
        "            cami_min = cami\n",
        "    return num_linia, posicio, distancia_min, cami_min"
      ],
      "execution_count": 49,
      "outputs": []
    },
    {
      "cell_type": "markdown",
      "metadata": {
        "id": "oB8q8u1BKgPc"
      },
      "source": [
        "Tal i com hem comentat al professorat, els asserts que porten una 'I', a tots els alumnes ens surt que hauria de ser una 'D', ja que tal i com ens ha explicat el professor de laboratori el problema, hauria de ser així."
      ]
    },
    {
      "cell_type": "code",
      "metadata": {
        "id": "ZmwSiAdosgiX"
      },
      "source": [
        "assert dna(\"CTGGTACCAGCTGTATTAGC\") == (728, (11, 31), 6, ['C', 'C', 'C', 'C', 'C', 'C', 'C', 'S', 'C', 'S', 'C', 'S', 'S', 'S', 'C', 'C', 'S', 'C', 'C', 'C'])\n",
        "assert dna(\"TCGTCATAAACCGCTGTGCC\") == (212, (12, 32), 7, ['S', 'C', 'S', 'C', 'C', 'C', 'C', 'C', 'C', 'C', 'C', 'C', 'S', 'S', 'C', 'C', 'S', 'S', 'C', 'S'])\n",
        "assert dna(\"TATACAAACGGAGTAGCTGT\") == (285, (5, 25), 6, ['C', 'C', 'C', 'C', 'S', 'C', 'S', 'C', 'C', 'S', 'C', 'S', 'S', 'C', 'C', 'C', 'S', 'C', 'C', 'C'])\n",
        "assert dna(\"AGGCGTAAGTCTTACGTATA\") == (5, (41, 61), 7, ['C', 'S', 'C', 'S', 'S', 'C', 'C', 'C', 'C', 'C', 'C', 'S', 'C', 'S', 'S', 'C', 'S', 'C', 'C', 'C'])\n",
        "assert dna(\"AACGGCATAGCCTGCAAGAG\") == (433, (41, 61), 5, ['C', 'C', 'S', 'C', 'C', 'C', 'C', 'S', 'C', 'S', 'C', 'C', 'C', 'C', 'C', 'C', 'C', 'S', 'C', 'S'])\n",
        "assert dna(\"GTGCGTCCACCCTTAATACA\") == (196, (41, 61), 6, ['C', 'C', 'C', 'S', 'S', 'C', 'S', 'C', 'C', 'C', 'C', 'C', 'C', 'S', 'C', 'S', 'C', 'C', 'S', 'C'])\n",
        "assert dna(\"GTCAGCACCGGGATCTGTAT\") == (240, (26, 46), 7, ['C', 'S', 'C', 'S', 'S', 'C', 'C', 'C', 'C', 'C', 'S', 'C', 'C', 'S', 'C', 'S', 'C', 'C', 'S', 'C'])\n",
        "assert dna(\"GAGCCCCGACGTTTTAACGA\") == (68, (6, 26), 7, ['S', 'C', 'C', 'C', 'C', 'C', 'C', 'S', 'C', 'C', 'S', 'C', 'S', 'C', 'C', 'C', 'S', 'S', 'S', 'C'])\n",
        "assert dna(\"CCTCGTAGACAGTACCGAAT\") == (448, (30, 50), 6, ['C', 'S', 'C', 'C', 'S', 'C', 'C', 'S', 'C', 'C', 'C', 'S', 'C', 'C', 'C', 'C', 'S', 'S', 'C', 'C'])\n",
        "assert dna(\"CGACCAAAGAGCCTGTATCT\") == (320, (35, 55), 7, ['S', 'S', 'C', 'S', 'S', 'C', 'C', 'C', 'C', 'S', 'C', 'S', 'C', 'C', 'S', 'C', 'C', 'C', 'C', 'C'])\n",
        "assert dna(\"GACACACACTTGGATCTTCG\") == (565, (16, 36), 6, ['C', 'S', 'C', 'C', 'C', 'S', 'S', 'C', 'C', 'C', 'C', 'C', 'S', 'S', 'S', 'C', 'C', 'C', 'C', 'C'])\n",
        "assert dna(\"CTGGACGTTCATACATAGAC\") == (28, (21, 41), 7, ['C', 'C', 'C', 'C', 'C', 'C', 'S', 'C', 'C', 'S', 'S', 'S', 'C', 'S', 'C', 'S', 'C', 'C', 'C', 'S'])\n",
        "assert dna(\"ACGTTTTACCCCAAAGCCCG\") == (753, (4, 24), 7, ['C', 'S', 'S', 'S', 'S', 'C', 'C', 'C', 'C', 'S', 'C', 'C', 'C', 'C', 'C', 'C', 'S', 'C', 'S', 'C'])\n",
        "assert dna(\"CGGGTAGAAATCTCCGCTTG\") == (361, (30, 50), 6, ['S', 'C', 'C', 'C', 'C', 'C', 'C', 'C', 'S', 'S', 'C', 'C', 'S', 'C', 'C', 'S', 'S', 'C', 'C', 'C'])"
      ],
      "execution_count": 50,
      "outputs": []
    }
  ]
}