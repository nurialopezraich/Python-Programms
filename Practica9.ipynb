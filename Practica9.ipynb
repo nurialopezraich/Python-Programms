{
  "nbformat": 4,
  "nbformat_minor": 0,
  "metadata": {
    "colab": {
      "name": "Practica9.ipynb",
      "provenance": [],
      "collapsed_sections": []
    },
    "kernelspec": {
      "name": "python3",
      "display_name": "Python 3"
    }
  },
  "cells": [
    {
      "cell_type": "markdown",
      "metadata": {
        "id": "opZ_XjfU_1rQ"
      },
      "source": [
        "#5.8.1. Donada una llista ordenada de nombres enters, definim una rotació com a l’operació de moure elements del final de la llista al principi. Escriu una funció, que, donada una llista, calculi quantes rotacions s’han aplicat prèviament. Podem assumir que la llista no conté cap element duplicat."
      ]
    },
    {
      "cell_type": "code",
      "metadata": {
        "id": "vCz__rwQRjP1"
      },
      "source": [
        "def rotacions(llista):\n",
        "    num_rotacions = llista.index(min(llista))\n",
        "    return num_rotacions"
      ],
      "execution_count": 24,
      "outputs": []
    },
    {
      "cell_type": "code",
      "metadata": {
        "id": "8jn5qrLR10MO"
      },
      "source": [
        "assert rotacions([9, 10, 2, 5, 6, 8]) == 2\n",
        "assert rotacions([3, 5, 10, 12, 1, 2]) == 4\n",
        "assert rotacions([20, 2, 3, 7, 15, 18]) == 1"
      ],
      "execution_count": 25,
      "outputs": []
    },
    {
      "cell_type": "code",
      "metadata": {
        "colab": {
          "base_uri": "https://localhost:8080/"
        },
        "id": "XtmG5LFAAggN",
        "outputId": "8b994828-a798-459d-b720-61979de4b89f"
      },
      "source": [
        "rotacions([18,19,20,21,22,23,24,25,26,27,28,29,30,31,32,33,34,35,36,37,38,39,40,41,42,43,44,45,46,47,48,49,50,1,2,3,4,5,6,7,8,9,10,11,12,13,14,15,16,17])"
      ],
      "execution_count": 26,
      "outputs": [
        {
          "output_type": "execute_result",
          "data": {
            "text/plain": [
              "33"
            ]
          },
          "metadata": {
            "tags": []
          },
          "execution_count": 26
        }
      ]
    },
    {
      "cell_type": "code",
      "metadata": {
        "colab": {
          "base_uri": "https://localhost:8080/"
        },
        "id": "PSUbqJr73LQ0",
        "outputId": "8c5d7fab-328e-409a-9e06-347953451322"
      },
      "source": [
        "rotacions([5,6,8,9,10])"
      ],
      "execution_count": 27,
      "outputs": [
        {
          "output_type": "execute_result",
          "data": {
            "text/plain": [
              "0"
            ]
          },
          "metadata": {
            "tags": []
          },
          "execution_count": 27
        }
      ]
    },
    {
      "cell_type": "code",
      "metadata": {
        "colab": {
          "base_uri": "https://localhost:8080/"
        },
        "id": "_yIZOLrkgHSy",
        "outputId": "e132c531-0513-4ef9-9057-94108d76f7cf"
      },
      "source": [
        "rotacions([4,5,6,7,3])"
      ],
      "execution_count": 28,
      "outputs": [
        {
          "output_type": "execute_result",
          "data": {
            "text/plain": [
              "4"
            ]
          },
          "metadata": {
            "tags": []
          },
          "execution_count": 28
        }
      ]
    },
    {
      "cell_type": "markdown",
      "metadata": {
        "id": "nl9Q4rteAlVL"
      },
      "source": [
        "#5.23.1. Resol el problema del sumatori parcial màxim usant un algorisme de força bruta, és a dir, en aquest cas, de complexitat O(n^2)."
      ]
    },
    {
      "cell_type": "code",
      "metadata": {
        "id": "dD2MXf0FAtNV"
      },
      "source": [
        "def sumatori_parcial_maxim_forca_bruta(llista):\n",
        "    max_sum = llista[0]\n",
        "    for i in range(len(llista) + 1):\n",
        "        for j in range(i + 1, len(llista) + 1):\n",
        "            max = sum(llista[i:j])\n",
        "            if max > max_sum:\n",
        "                max_sum = max\n",
        "    return max_sum"
      ],
      "execution_count": 29,
      "outputs": []
    },
    {
      "cell_type": "code",
      "metadata": {
        "colab": {
          "base_uri": "https://localhost:8080/"
        },
        "id": "U8oP0UVFR2og",
        "outputId": "559ac1d1-608d-4420-abac-aba0df654df5"
      },
      "source": [
        "sumatori_parcial_maxim_forca_bruta([1, 2, -6, 4, -1, 2, 1, -5])"
      ],
      "execution_count": 30,
      "outputs": [
        {
          "output_type": "execute_result",
          "data": {
            "text/plain": [
              "6"
            ]
          },
          "metadata": {
            "tags": []
          },
          "execution_count": 30
        }
      ]
    },
    {
      "cell_type": "code",
      "metadata": {
        "colab": {
          "base_uri": "https://localhost:8080/"
        },
        "id": "0tNf9hVEp0Z8",
        "outputId": "0a7171a4-7129-4b86-8f1c-04c72681b85f"
      },
      "source": [
        "sumatori_parcial_maxim_forca_bruta([-3, 1, -5, 2, 7, 8])"
      ],
      "execution_count": 31,
      "outputs": [
        {
          "output_type": "execute_result",
          "data": {
            "text/plain": [
              "17"
            ]
          },
          "metadata": {
            "tags": []
          },
          "execution_count": 31
        }
      ]
    },
    {
      "cell_type": "code",
      "metadata": {
        "colab": {
          "base_uri": "https://localhost:8080/"
        },
        "id": "kTB2N1g0pkNc",
        "outputId": "9207c4cd-a1a0-444c-840c-3b9659e16b31"
      },
      "source": [
        "sumatori_parcial_maxim_forca_bruta([1, 2, -5, 3, 6, -2, 4])"
      ],
      "execution_count": 32,
      "outputs": [
        {
          "output_type": "execute_result",
          "data": {
            "text/plain": [
              "11"
            ]
          },
          "metadata": {
            "tags": []
          },
          "execution_count": 32
        }
      ]
    },
    {
      "cell_type": "markdown",
      "metadata": {
        "id": "9776O2L3QV8k"
      },
      "source": [
        "#5.24.1. Escriu una funció xifres_lletres_ord_sel que resolgui el problema usant el mètode d’Ordenació per Selecció. "
      ]
    },
    {
      "cell_type": "markdown",
      "metadata": {
        "id": "Qk-RS8FVU4ud"
      },
      "source": [
        "*Demostra que la complexitat de l’algorisme que has escrit és O(n^2)*\n",
        "\n",
        "Totes les operacions que fem en la funció són de cost 0(1), per tant només ens cal saber quantes vegades es fa la comparació : \"if llista[j] < llista[min]: min = j\", és a dir, el nombre de vegades que s'executen els fors.\n",
        "\n",
        "Si n = len(llista):\n",
        "Quan al primer bucle la i val 0, al segon la j va d'1 a n (n-1 operacions), quan la i val 1, la j va de 2 a n (n-2 operacions), ... , quan la i finalment val n-2, la j \"va de n-1 a n-1\" (1 operació). Això és S(n) = (n-1) + (n-2) + ... + 1. Sabem que la suma d'1 a n és (n(n+1))/2, per tant, S(n) = (n(n+1))/2 - n =  (n^2+n-2n)/2 = (n^2 - n)/2, per tant, l'algorisme és de l'ordre 0(n^2)."
      ]
    },
    {
      "cell_type": "code",
      "metadata": {
        "id": "MgNqyP3qQdSw"
      },
      "source": [
        "def xifres_lletres_ord_sel(llista):                  \n",
        "    for i in range(len(llista) - 1):                  \n",
        "        min = i                                        \n",
        "        for j in range(i + 1, len(llista)): \n",
        "            if llista[j] < llista[min]:                \n",
        "                min = j                                \n",
        "        llista[i],llista[min]=llista[min],llista[i]    "
      ],
      "execution_count": 33,
      "outputs": []
    },
    {
      "cell_type": "code",
      "metadata": {
        "id": "oSpIGFATRKgb"
      },
      "source": [
        "llista = ['14', 'tb', '8', '4599', 'ly', '368', '9', 'roky', 'ndqdu', '2', 'ezi', 'adw', 'wy', '37409', '504']\n",
        "xifres_lletres_ord_sel(llista)\n",
        "assert llista == ['14', '2', '368', '37409', '4599', '504', '8', '9', 'adw', 'ezi', 'ly', 'ndqdu', 'roky', 'tb', 'wy']\n",
        "llista = ['o', '73769', 'iaem', 'hv', '77806', 'k', '34', '31', 'xzy', '375', 'uytk', 'hllso', 'tdvsf', '645']\n",
        "xifres_lletres_ord_sel(llista)\n",
        "assert llista == ['31', '34', '375', '645', '73769', '77806', 'hllso', 'hv', 'iaem', 'k', 'o', 'tdvsf', 'uytk', 'xzy']\n",
        "llista = ['82', '724', 'vnq', '7850', 'lq', 'nvmr', 'we']\n",
        "xifres_lletres_ord_sel(llista)\n",
        "assert llista == ['724', '7850', '82', 'lq', 'nvmr', 'vnq', 'we']\n",
        "llista = ['5', 'yizqi', 'b', 'rxz', 'ix', '93444', 'x']\n",
        "xifres_lletres_ord_sel(llista)\n",
        "assert llista == ['5', '93444', 'b', 'ix', 'rxz', 'x', 'yizqi']\n",
        "llista = ['8201', '62374', '15', 'vhlr', 'fx', '64407', '232', 'belf', '49', '1680']\n",
        "xifres_lletres_ord_sel(llista)\n",
        "assert llista == ['15', '1680', '232', '49', '62374', '64407', '8201', 'belf', 'fx', 'vhlr']\n",
        "llista = ['s', '02973', '85', '086', '4792', '97', '2533', 'zgjn', '69730', '15608', '11226', 'aka', '836']\n",
        "xifres_lletres_ord_sel(llista)\n",
        "assert llista == ['02973', '086', '11226', '15608', '2533', '4792', '69730', '836', '85', '97', 'aka', 's', 'zgjn']\n",
        "llista = ['27', '771', 'dirw', '3111', '5', 'kqq', '92619', '4465', '422', '0', 'ddagc']\n",
        "xifres_lletres_ord_sel(llista)\n",
        "assert llista == ['0', '27', '3111', '422', '4465', '5', '771', '92619', 'ddagc', 'dirw', 'kqq']\n",
        "llista = ['31', '22', '30', '863', 'rlbom', '6318', '71158', '04338', '47']\n",
        "xifres_lletres_ord_sel(llista)\n",
        "assert llista == ['04338', '22', '30', '31', '47', '6318', '71158', '863', 'rlbom']\n",
        "llista = ['90443', '16', '51', 'iiu', '97', '1461', 'btyt', '67543', '2872']\n",
        "xifres_lletres_ord_sel(llista)\n",
        "assert llista == ['1461', '16', '2872', '51', '67543', '90443', '97', 'btyt', 'iiu']\n",
        "llista = ['m', 'it', '42', 'qbqp', '14']\n",
        "xifres_lletres_ord_sel(llista)\n",
        "assert llista == ['14', '42', 'it', 'm', 'qbqp']\n",
        "llista = ['zjdm', 'ca', 'oi', 'g', '80']\n",
        "xifres_lletres_ord_sel(llista)\n",
        "assert llista == ['80', 'ca', 'g', 'oi', 'zjdm']\n",
        "llista = ['9', 'hxu', 'ru', 'o', 'e', 't', '7', '4', 'ovzlk', 'zoj', 'rsfu']\n",
        "xifres_lletres_ord_sel(llista)\n",
        "assert llista == ['4', '7', '9', 'e', 'hxu', 'o', 'ovzlk', 'rsfu', 'ru', 't', 'zoj']\n",
        "llista = ['plql', 'jayzp', 'oaei', 'mcu', 'hh', 'q', '0092']\n",
        "xifres_lletres_ord_sel(llista)\n",
        "assert llista == ['0092', 'hh', 'jayzp', 'mcu', 'oaei', 'plql', 'q']\n",
        "llista = ['zvh', 'poy', '9035', 'bshz', 'rrpzo', '5200', 'qp', '50880', 'cqow', 'hjzxf', '599', 'src', 'epmfu', 'pn', '8553']\n",
        "xifres_lletres_ord_sel(llista)\n",
        "assert llista == ['50880', '5200', '599', '8553', '9035', 'bshz', 'cqow', 'epmfu', 'hjzxf', 'pn', 'poy', 'qp', 'rrpzo', 'src', 'zvh']\n",
        "llista = ['sx', 'hysr', '8702', 'gsogu', 'g', 'ek', 'bikc', 'mrdte', '13', 'lxn']\n",
        "xifres_lletres_ord_sel(llista)\n",
        "assert llista == ['13', '8702', 'bikc', 'ek', 'g', 'gsogu', 'hysr', 'lxn', 'mrdte', 'sx']\n",
        "llista = ['3974', '1', '8', '0998', 'c', 'p', 'yqz', 'z', '5', '2', '0761', 'bwfqg', 'hv', 'm', '67', '637']\n",
        "xifres_lletres_ord_sel(llista)\n",
        "assert llista == ['0761', '0998', '1', '2', '3974', '5', '637', '67', '8', 'bwfqg', 'c', 'hv', 'm', 'p', 'yqz', 'z']\n",
        "llista = ['0809', '29519', '71', '536', 'eir', '93', '8643', '85', '40536', '28', 'mfl', 'mysx', '31']\n",
        "xifres_lletres_ord_sel(llista)\n",
        "assert llista == ['0809', '28', '29519', '31', '40536', '536', '71', '85', '8643', '93', 'eir', 'mfl', 'mysx']\n",
        "llista = ['sol', '2', 'gbhlc', '8058', '9588', '898', '8385', '92716']\n",
        "xifres_lletres_ord_sel(llista)\n",
        "assert llista == ['2', '8058', '8385', '898', '92716', '9588', 'gbhlc', 'sol']\n",
        "llista = ['r', 'sy', 'ra', 'kussl', 'tdur', '30900', '57643', '82', '2', '507', '30165', '8', '480']\n",
        "xifres_lletres_ord_sel(llista)\n",
        "assert llista == ['2', '30165', '30900', '480', '507', '57643', '8', '82', 'kussl', 'r', 'ra', 'sy', 'tdur']\n",
        "llista = ['49', '95', 'htszu', '15', '10738', '3893', '437', 'jnc']\n",
        "xifres_lletres_ord_sel(llista)\n",
        "assert llista == ['10738', '15', '3893', '437', '49', '95', 'htszu', 'jnc']"
      ],
      "execution_count": 35,
      "outputs": []
    }
  ]
}