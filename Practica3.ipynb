{
  "nbformat": 4,
  "nbformat_minor": 0,
  "metadata": {
    "colab": {
      "name": "Practica3.ipynb",
      "provenance": [],
      "collapsed_sections": []
    },
    "kernelspec": {
      "name": "python3",
      "display_name": "Python 3"
    }
  },
  "cells": [
    {
      "cell_type": "markdown",
      "metadata": {
        "id": "_TwmlZSDyAn8"
      },
      "source": [
        "# 2.1.1. Escriu una funció convert_temp que converteixi els graus Celsius en graus Fahrenheit."
      ]
    },
    {
      "cell_type": "code",
      "metadata": {
        "id": "nOeUZ_tpnkeO"
      },
      "source": [
        "def convert_temp(temp_Celsius):\n",
        "    temp_Fahrenheit = (9/5)*temp_Celsius + 32\n",
        "    return temp_Fahrenheit"
      ],
      "execution_count": 73,
      "outputs": []
    },
    {
      "cell_type": "code",
      "metadata": {
        "id": "Mii2mbnPsYlm",
        "outputId": "816dce10-3d75-4ce2-b62b-45483ffb9abd",
        "colab": {
          "base_uri": "https://localhost:8080/",
          "height": 35
        }
      },
      "source": [
        "convert_temp(30)"
      ],
      "execution_count": 74,
      "outputs": [
        {
          "output_type": "execute_result",
          "data": {
            "text/plain": [
              "86.0"
            ]
          },
          "metadata": {
            "tags": []
          },
          "execution_count": 74
        }
      ]
    },
    {
      "cell_type": "markdown",
      "metadata": {
        "id": "PiTqWBMpqnA2"
      },
      "source": [
        "# 2.1.2. Utilitzant la funció anterior, escriu una nova funció convert0a50 que calculi i imprimeixi una llista de temperatures Celsius i dels seus equivalents Fahrenheit cada 5 graus, de 0 ◦ C a 50 ◦ C."
      ]
    },
    {
      "cell_type": "code",
      "metadata": {
        "id": "J-jYJ_RSohAA",
        "outputId": "d8aac377-00a6-463d-809d-77613a8ce262",
        "colab": {
          "base_uri": "https://localhost:8080/",
          "height": 35
        }
      },
      "source": [
        "def convert0a50():\n",
        "    list_temp_Fahrenheit = []\n",
        "    for i in range(0,51,5):\n",
        "        list_temp_Fahrenheit.append((i,convert_temp(i)))\n",
        "    return list_temp_Fahrenheit\n",
        "print(convert0a50())"
      ],
      "execution_count": null,
      "outputs": [
        {
          "output_type": "stream",
          "text": [
            "[(0, 32.0), (5, 41.0), (10, 50.0), (15, 59.0), (20, 68.0), (25, 77.0), (30, 86.0), (35, 95.0), (40, 104.0), (45, 113.0), (50, 122.0)]\n"
          ],
          "name": "stdout"
        }
      ]
    },
    {
      "cell_type": "markdown",
      "metadata": {
        "id": "hLXg8C24ucji"
      },
      "source": [
        "# 2.2.1. La funció futval calcula els diners que tindrem en un compte del banc al cap de 10 anys en funció de la inversió inicial (en euros) i de l’interès que ens dóna el banc (en %) suposant un subperiode anual :"
      ]
    },
    {
      "cell_type": "code",
      "metadata": {
        "id": "PRfRhzQzu4OB"
      },
      "source": [
        "def futval(inversio, interes):\n",
        "    principal = inversio\n",
        "    for i in range(10):\n",
        "        principal = principal * (1 + interes)\n",
        "    return principal"
      ],
      "execution_count": null,
      "outputs": []
    },
    {
      "cell_type": "code",
      "metadata": {
        "id": "u_4-OPB3fz-0",
        "outputId": "829e295f-0c0a-4e60-e890-d8365513c4bc",
        "colab": {
          "base_uri": "https://localhost:8080/",
          "height": 35
        }
      },
      "source": [
        "futval(100, 0.1)"
      ],
      "execution_count": null,
      "outputs": [
        {
          "output_type": "execute_result",
          "data": {
            "text/plain": [
              "259.37424601000026"
            ]
          },
          "metadata": {
            "tags": []
          },
          "execution_count": 5
        }
      ]
    },
    {
      "cell_type": "markdown",
      "metadata": {
        "id": "ADqgd6EevK0Q"
      },
      "source": [
        "# Escriu, a partir d’aquesta funció, una segona funció amb alguns canvis. En aquest cas el banc cobrarà una comissió d’un percentatge de l’import final. El programa ha de rebre la inversió inicial, l’interès, el nombre d’anys i també la comissió del banc (per exemple, si la comissió és del 3%, haurem d’entrar un 0.03)."
      ]
    },
    {
      "cell_type": "code",
      "metadata": {
        "id": "l8DBVHQBvPXp"
      },
      "source": [
        "def futval2(inicial, anys, interesPerCent, comissioPerCent):\n",
        "    diners = inicial\n",
        "    for i in range(anys):\n",
        "        diners = diners * (1 + interesPerCent)\n",
        "    diners =  diners - comissioPerCent*diners\n",
        "    return diners"
      ],
      "execution_count": null,
      "outputs": []
    },
    {
      "cell_type": "code",
      "metadata": {
        "id": "lkTOThEKhwh5",
        "outputId": "14cd735c-8df1-486c-da54-fd8c6f79d0eb",
        "colab": {
          "base_uri": "https://localhost:8080/",
          "height": 35
        }
      },
      "source": [
        "futval2(100,10,0.8,0.3)"
      ],
      "execution_count": null,
      "outputs": [
        {
          "output_type": "execute_result",
          "data": {
            "text/plain": [
              "24993.27058636801"
            ]
          },
          "metadata": {
            "tags": []
          },
          "execution_count": 7
        }
      ]
    },
    {
      "cell_type": "code",
      "metadata": {
        "id": "k42Ji3Jzh5fC"
      },
      "source": [
        "assert abs(futval2(100,10,0.8,0.3) - 24993.270) < 0.1"
      ],
      "execution_count": null,
      "outputs": []
    },
    {
      "cell_type": "markdown",
      "metadata": {
        "id": "iVVW3kF2iXlD"
      },
      "source": [
        "# 2.3.1. Escriu una funció en la que donat un nombre de cerveses i un booleà indicant si és cap de setmana o no, retorni una cadena de caràcters que expliquin si la festa serà un èxit o no. Proposa uns valors donats a la funció que provoquin un èxit de festa entre setmana i un èxit de festa el cap de setmana."
      ]
    },
    {
      "cell_type": "code",
      "metadata": {
        "id": "D8D2F9sq4Q4Q"
      },
      "source": [
        "def prouCerveses(num_cerveses, es_cap_de_setmana):\n",
        "    if (es_cap_de_setmana == True) & (num_cerveses >= 50):\n",
        "        return \"La festa serà un èxit\"\n",
        "    elif (es_cap_de_setmana == False) & (num_cerveses >= 50) & (num_cerveses <= 100):\n",
        "        return \"La festa serà un èxit\"\n",
        "    else:\n",
        "        return \"La festa no serà un èxit\"\n"
      ],
      "execution_count": 75,
      "outputs": []
    },
    {
      "cell_type": "code",
      "metadata": {
        "id": "hM-bkDxn1-P2",
        "outputId": "7afdc9b8-d9b6-404a-f2e7-c6c0e188909a",
        "colab": {
          "base_uri": "https://localhost:8080/",
          "height": 35
        }
      },
      "source": [
        "prouCerveses(80, False) "
      ],
      "execution_count": 80,
      "outputs": [
        {
          "output_type": "execute_result",
          "data": {
            "application/vnd.google.colaboratory.intrinsic+json": {
              "type": "string"
            },
            "text/plain": [
              "'La festa serà un èxit'"
            ]
          },
          "metadata": {
            "tags": []
          },
          "execution_count": 80
        }
      ]
    },
    {
      "cell_type": "code",
      "metadata": {
        "id": "kKUpkB0jqcO6",
        "outputId": "998a5b48-d997-4f66-bae6-798509452adc",
        "colab": {
          "base_uri": "https://localhost:8080/",
          "height": 35
        }
      },
      "source": [
        "prouCerveses(110, True)"
      ],
      "execution_count": 89,
      "outputs": [
        {
          "output_type": "execute_result",
          "data": {
            "application/vnd.google.colaboratory.intrinsic+json": {
              "type": "string"
            },
            "text/plain": [
              "'La festa serà un èxit'"
            ]
          },
          "metadata": {
            "tags": []
          },
          "execution_count": 89
        }
      ]
    },
    {
      "cell_type": "code",
      "metadata": {
        "id": "qk81IzSnXbO3"
      },
      "source": [
        "assert prouCerveses(75, False) == \"La festa serà un èxit\"\n",
        "assert prouCerveses(125, False) == \"La festa no serà un èxit\"\n",
        "assert prouCerveses(125, True) == \"La festa serà un èxit\""
      ],
      "execution_count": 85,
      "outputs": []
    },
    {
      "cell_type": "markdown",
      "metadata": {
        "id": "qggWCyda97Rj"
      },
      "source": [
        "# 2.5.1. Escriu una funció que donada una cadena de caràcters determini si és capicua."
      ]
    },
    {
      "cell_type": "code",
      "metadata": {
        "id": "gPuTbup6QYUS"
      },
      "source": [
        "def es_capicua(paraula):\n",
        "    if str(paraula) == str(paraula)[::-1]:\n",
        "       return True\n",
        "    else:\n",
        "        return False"
      ],
      "execution_count": 90,
      "outputs": []
    },
    {
      "cell_type": "code",
      "metadata": {
        "id": "xR4dnEMMCvkl",
        "outputId": "dc6621bf-21e2-489b-adb0-d4296969a6e8",
        "colab": {
          "base_uri": "https://localhost:8080/",
          "height": 35
        }
      },
      "source": [
        "es_capicua(\"sugus\") "
      ],
      "execution_count": 91,
      "outputs": [
        {
          "output_type": "execute_result",
          "data": {
            "text/plain": [
              "True"
            ]
          },
          "metadata": {
            "tags": []
          },
          "execution_count": 91
        }
      ]
    },
    {
      "cell_type": "code",
      "metadata": {
        "id": "aIN3Y2eZrguI",
        "outputId": "f805eab3-8b16-47cb-bd62-f0d237286246",
        "colab": {
          "base_uri": "https://localhost:8080/",
          "height": 35
        }
      },
      "source": [
        "es_capicua(\"hola\")"
      ],
      "execution_count": 93,
      "outputs": [
        {
          "output_type": "execute_result",
          "data": {
            "text/plain": [
              "False"
            ]
          },
          "metadata": {
            "tags": []
          },
          "execution_count": 93
        }
      ]
    },
    {
      "cell_type": "code",
      "metadata": {
        "id": "WI0zxN9oYZtU"
      },
      "source": [
        "assert es_capicua(\"llull\") == True\n",
        "assert es_capicua(\"llullu\") == False"
      ],
      "execution_count": 92,
      "outputs": []
    },
    {
      "cell_type": "markdown",
      "metadata": {
        "id": "BIhPA4g6FF2M"
      },
      "source": [
        "# 2.5.2. Escriu una funció que, donada una cadena de caràcters, determini si a l'aplicar rotacions de lletres, és capicua. Per resoldre aquest problema has d’anar creant les paraules rotades progressivament i validant si són capicua amb l’algorisme anterior."
      ]
    },
    {
      "cell_type": "code",
      "metadata": {
        "id": "0FJTPYRUFVON"
      },
      "source": [
        "def es_capicua_rotacions(paraula):\n",
        "    rotacio = paraula\n",
        "    compt = 0\n",
        "    for i in range(len(paraula)):\n",
        "        rotacio = rotacio[1:] + rotacio[:1]\n",
        "        if es_capicua(rotacio) == True:\n",
        "            compt = compt + 1\n",
        "    if compt > 0:\n",
        "        return True\n",
        "    else:\n",
        "        return False\n",
        "\n"
      ],
      "execution_count": 94,
      "outputs": []
    },
    {
      "cell_type": "code",
      "metadata": {
        "id": "D8AaJ_9SZZtu",
        "outputId": "afc80894-243d-4048-8edb-adb6343be762",
        "colab": {
          "base_uri": "https://localhost:8080/",
          "height": 35
        }
      },
      "source": [
        "es_capicua_rotacions(\"hola\")"
      ],
      "execution_count": null,
      "outputs": [
        {
          "output_type": "execute_result",
          "data": {
            "text/plain": [
              "False"
            ]
          },
          "metadata": {
            "tags": []
          },
          "execution_count": 66
        }
      ]
    },
    {
      "cell_type": "code",
      "metadata": {
        "id": "o7UISfNUZdnM",
        "outputId": "5c6e336d-0ab3-42f6-ccbd-41ee5ef5d2cd",
        "colab": {
          "base_uri": "https://localhost:8080/",
          "height": 35
        }
      },
      "source": [
        "es_capicua_rotacions(\"3432112\")"
      ],
      "execution_count": null,
      "outputs": [
        {
          "output_type": "execute_result",
          "data": {
            "text/plain": [
              "True"
            ]
          },
          "metadata": {
            "tags": []
          },
          "execution_count": 72
        }
      ]
    },
    {
      "cell_type": "code",
      "metadata": {
        "id": "Al33XdGdO_12",
        "outputId": "b139d71b-7d75-48be-b2cc-b5287f6622aa",
        "colab": {
          "base_uri": "https://localhost:8080/",
          "height": 35
        }
      },
      "source": [
        "es_capicua_rotacions(\"BAABCC\")"
      ],
      "execution_count": null,
      "outputs": [
        {
          "output_type": "execute_result",
          "data": {
            "text/plain": [
              "True"
            ]
          },
          "metadata": {
            "tags": []
          },
          "execution_count": 68
        }
      ]
    },
    {
      "cell_type": "code",
      "metadata": {
        "id": "bgyHK-Y0ZW7y"
      },
      "source": [
        "assert es_capicua_rotacions(\"BAABCC\") == True"
      ],
      "execution_count": null,
      "outputs": []
    }
  ]
}